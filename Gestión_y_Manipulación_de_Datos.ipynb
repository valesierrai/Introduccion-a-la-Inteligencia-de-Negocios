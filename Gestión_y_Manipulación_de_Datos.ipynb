{
  "nbformat": 4,
  "nbformat_minor": 0,
  "metadata": {
    "colab": {
      "provenance": [],
      "authorship_tag": "ABX9TyM8uP5uo6ExsEj9xi4jXFjH",
      "include_colab_link": true
    },
    "kernelspec": {
      "name": "python3",
      "display_name": "Python 3"
    },
    "language_info": {
      "name": "python"
    }
  },
  "cells": [
    {
      "cell_type": "markdown",
      "metadata": {
        "id": "view-in-github",
        "colab_type": "text"
      },
      "source": [
        "<a href=\"https://colab.research.google.com/github/valesierrai/Introduccion-a-la-Inteligencia-de-Negocios/blob/main/Gesti%C3%B3n_y_Manipulaci%C3%B3n_de_Datos.ipynb\" target=\"_parent\"><img src=\"https://colab.research.google.com/assets/colab-badge.svg\" alt=\"Open In Colab\"/></a>"
      ]
    },
    {
      "cell_type": "markdown",
      "source": [
        "#0. Importamos Librerias"
      ],
      "metadata": {
        "id": "f_DwkuOk-5Rv"
      }
    },
    {
      "cell_type": "code",
      "source": [
        "from google.colab import drive\n",
        "drive.mount('/content/drive')\n",
        "import sqlite3\n",
        "import pandas as pd\n",
        "import matplotlib.pyplot as plt"
      ],
      "metadata": {
        "colab": {
          "base_uri": "https://localhost:8080/"
        },
        "id": "JplzBoHa-Khp",
        "outputId": "63a08ba9-9f0d-4aae-c5d5-e581e78cadd8"
      },
      "execution_count": null,
      "outputs": [
        {
          "output_type": "stream",
          "name": "stdout",
          "text": [
            "Drive already mounted at /content/drive; to attempt to forcibly remount, call drive.mount(\"/content/drive\", force_remount=True).\n"
          ]
        }
      ]
    },
    {
      "cell_type": "markdown",
      "source": [
        "#Mis Canciones V2"
      ],
      "metadata": {
        "id": "-DGAgAr4OMxI"
      }
    },
    {
      "cell_type": "markdown",
      "source": [
        "##1. Cargamos la Base de Datos"
      ],
      "metadata": {
        "id": "oVz3lN5C_LSq"
      }
    },
    {
      "cell_type": "code",
      "source": [
        "datos = pd.read_excel('/content/drive/MyDrive/Colab Notebooks/IB/MisCancionesV2.xls',\n",
        "                      sheet_name= None, header= 0 )"
      ],
      "metadata": {
        "id": "w_j28jWR_PA3"
      },
      "execution_count": null,
      "outputs": []
    },
    {
      "cell_type": "code",
      "source": [
        "#Nos muestra el nombre de cada tabla (Retorna las claves del diccionario)\n",
        "datos.keys()"
      ],
      "metadata": {
        "colab": {
          "base_uri": "https://localhost:8080/"
        },
        "id": "gOEXGeYh_-CI",
        "outputId": "aa9114e6-6aa7-4c15-e361-c405de2def67"
      },
      "execution_count": null,
      "outputs": [
        {
          "output_type": "execute_result",
          "data": {
            "text/plain": [
              "dict_keys(['Artistas', 'Canciones', 'Álbumes', 'Géneros'])"
            ]
          },
          "metadata": {},
          "execution_count": 3
        }
      ]
    },
    {
      "cell_type": "code",
      "source": [
        "#Accedemos a la información de 'Canciones'\n",
        "datos['Canciones']"
      ],
      "metadata": {
        "colab": {
          "base_uri": "https://localhost:8080/",
          "height": 425
        },
        "id": "d1uqEycdACER",
        "outputId": "cbfd2efa-f7e1-48f6-e01f-3d2afdde57d5"
      },
      "execution_count": null,
      "outputs": [
        {
          "output_type": "execute_result",
          "data": {
            "text/plain": [
              "    identificador                título  duración  género   idioma  \\\n",
              "0           10001  La tierra del olvido  00:04:25       1  español   \n",
              "1           10002              Ojos así  00:03:57       3  español   \n",
              "2           10003              Mi gente  00:03:05       4  español   \n",
              "3           10004              Ambiente  00:04:08       4  español   \n",
              "4           10005      Cali pachanguero  00:04:51       2  español   \n",
              "5           10006          La creciente  00:03:04       1  español   \n",
              "6           10007   Sueños de conquista  00:04:02       1  español   \n",
              "7           10009                Carito  00:03:39       3  español   \n",
              "8           10011          Una aventura  00:05:16       2  español   \n",
              "9           10012                 Ginza  00:04:39       4  español   \n",
              "10          10013            Octavo día  00:04:32       3  español   \n",
              "11          10014  Quiero verte sonreír  00:03:18       3  español   \n",
              "\n",
              "    artista principal  álbum original  \n",
              "0               50001        900001.0  \n",
              "1               50003        900002.0  \n",
              "2               50005             NaN  \n",
              "3               50005        900004.0  \n",
              "4               50002        900005.0  \n",
              "5               50004        900006.0  \n",
              "6               50004        900008.0  \n",
              "7               50001        900009.0  \n",
              "8               50002        900011.0  \n",
              "9               50005             NaN  \n",
              "10              50003        900002.0  \n",
              "11              50001        900009.0  "
            ],
            "text/html": [
              "\n",
              "  <div id=\"df-3e0f36e9-1e19-47f3-a7b2-c3539348170d\" class=\"colab-df-container\">\n",
              "    <div>\n",
              "<style scoped>\n",
              "    .dataframe tbody tr th:only-of-type {\n",
              "        vertical-align: middle;\n",
              "    }\n",
              "\n",
              "    .dataframe tbody tr th {\n",
              "        vertical-align: top;\n",
              "    }\n",
              "\n",
              "    .dataframe thead th {\n",
              "        text-align: right;\n",
              "    }\n",
              "</style>\n",
              "<table border=\"1\" class=\"dataframe\">\n",
              "  <thead>\n",
              "    <tr style=\"text-align: right;\">\n",
              "      <th></th>\n",
              "      <th>identificador</th>\n",
              "      <th>título</th>\n",
              "      <th>duración</th>\n",
              "      <th>género</th>\n",
              "      <th>idioma</th>\n",
              "      <th>artista principal</th>\n",
              "      <th>álbum original</th>\n",
              "    </tr>\n",
              "  </thead>\n",
              "  <tbody>\n",
              "    <tr>\n",
              "      <th>0</th>\n",
              "      <td>10001</td>\n",
              "      <td>La tierra del olvido</td>\n",
              "      <td>00:04:25</td>\n",
              "      <td>1</td>\n",
              "      <td>español</td>\n",
              "      <td>50001</td>\n",
              "      <td>900001.0</td>\n",
              "    </tr>\n",
              "    <tr>\n",
              "      <th>1</th>\n",
              "      <td>10002</td>\n",
              "      <td>Ojos así</td>\n",
              "      <td>00:03:57</td>\n",
              "      <td>3</td>\n",
              "      <td>español</td>\n",
              "      <td>50003</td>\n",
              "      <td>900002.0</td>\n",
              "    </tr>\n",
              "    <tr>\n",
              "      <th>2</th>\n",
              "      <td>10003</td>\n",
              "      <td>Mi gente</td>\n",
              "      <td>00:03:05</td>\n",
              "      <td>4</td>\n",
              "      <td>español</td>\n",
              "      <td>50005</td>\n",
              "      <td>NaN</td>\n",
              "    </tr>\n",
              "    <tr>\n",
              "      <th>3</th>\n",
              "      <td>10004</td>\n",
              "      <td>Ambiente</td>\n",
              "      <td>00:04:08</td>\n",
              "      <td>4</td>\n",
              "      <td>español</td>\n",
              "      <td>50005</td>\n",
              "      <td>900004.0</td>\n",
              "    </tr>\n",
              "    <tr>\n",
              "      <th>4</th>\n",
              "      <td>10005</td>\n",
              "      <td>Cali pachanguero</td>\n",
              "      <td>00:04:51</td>\n",
              "      <td>2</td>\n",
              "      <td>español</td>\n",
              "      <td>50002</td>\n",
              "      <td>900005.0</td>\n",
              "    </tr>\n",
              "    <tr>\n",
              "      <th>5</th>\n",
              "      <td>10006</td>\n",
              "      <td>La creciente</td>\n",
              "      <td>00:03:04</td>\n",
              "      <td>1</td>\n",
              "      <td>español</td>\n",
              "      <td>50004</td>\n",
              "      <td>900006.0</td>\n",
              "    </tr>\n",
              "    <tr>\n",
              "      <th>6</th>\n",
              "      <td>10007</td>\n",
              "      <td>Sueños de conquista</td>\n",
              "      <td>00:04:02</td>\n",
              "      <td>1</td>\n",
              "      <td>español</td>\n",
              "      <td>50004</td>\n",
              "      <td>900008.0</td>\n",
              "    </tr>\n",
              "    <tr>\n",
              "      <th>7</th>\n",
              "      <td>10009</td>\n",
              "      <td>Carito</td>\n",
              "      <td>00:03:39</td>\n",
              "      <td>3</td>\n",
              "      <td>español</td>\n",
              "      <td>50001</td>\n",
              "      <td>900009.0</td>\n",
              "    </tr>\n",
              "    <tr>\n",
              "      <th>8</th>\n",
              "      <td>10011</td>\n",
              "      <td>Una aventura</td>\n",
              "      <td>00:05:16</td>\n",
              "      <td>2</td>\n",
              "      <td>español</td>\n",
              "      <td>50002</td>\n",
              "      <td>900011.0</td>\n",
              "    </tr>\n",
              "    <tr>\n",
              "      <th>9</th>\n",
              "      <td>10012</td>\n",
              "      <td>Ginza</td>\n",
              "      <td>00:04:39</td>\n",
              "      <td>4</td>\n",
              "      <td>español</td>\n",
              "      <td>50005</td>\n",
              "      <td>NaN</td>\n",
              "    </tr>\n",
              "    <tr>\n",
              "      <th>10</th>\n",
              "      <td>10013</td>\n",
              "      <td>Octavo día</td>\n",
              "      <td>00:04:32</td>\n",
              "      <td>3</td>\n",
              "      <td>español</td>\n",
              "      <td>50003</td>\n",
              "      <td>900002.0</td>\n",
              "    </tr>\n",
              "    <tr>\n",
              "      <th>11</th>\n",
              "      <td>10014</td>\n",
              "      <td>Quiero verte sonreír</td>\n",
              "      <td>00:03:18</td>\n",
              "      <td>3</td>\n",
              "      <td>español</td>\n",
              "      <td>50001</td>\n",
              "      <td>900009.0</td>\n",
              "    </tr>\n",
              "  </tbody>\n",
              "</table>\n",
              "</div>\n",
              "    <div class=\"colab-df-buttons\">\n",
              "\n",
              "  <div class=\"colab-df-container\">\n",
              "    <button class=\"colab-df-convert\" onclick=\"convertToInteractive('df-3e0f36e9-1e19-47f3-a7b2-c3539348170d')\"\n",
              "            title=\"Convert this dataframe to an interactive table.\"\n",
              "            style=\"display:none;\">\n",
              "\n",
              "  <svg xmlns=\"http://www.w3.org/2000/svg\" height=\"24px\" viewBox=\"0 -960 960 960\">\n",
              "    <path d=\"M120-120v-720h720v720H120Zm60-500h600v-160H180v160Zm220 220h160v-160H400v160Zm0 220h160v-160H400v160ZM180-400h160v-160H180v160Zm440 0h160v-160H620v160ZM180-180h160v-160H180v160Zm440 0h160v-160H620v160Z\"/>\n",
              "  </svg>\n",
              "    </button>\n",
              "\n",
              "  <style>\n",
              "    .colab-df-container {\n",
              "      display:flex;\n",
              "      gap: 12px;\n",
              "    }\n",
              "\n",
              "    .colab-df-convert {\n",
              "      background-color: #E8F0FE;\n",
              "      border: none;\n",
              "      border-radius: 50%;\n",
              "      cursor: pointer;\n",
              "      display: none;\n",
              "      fill: #1967D2;\n",
              "      height: 32px;\n",
              "      padding: 0 0 0 0;\n",
              "      width: 32px;\n",
              "    }\n",
              "\n",
              "    .colab-df-convert:hover {\n",
              "      background-color: #E2EBFA;\n",
              "      box-shadow: 0px 1px 2px rgba(60, 64, 67, 0.3), 0px 1px 3px 1px rgba(60, 64, 67, 0.15);\n",
              "      fill: #174EA6;\n",
              "    }\n",
              "\n",
              "    .colab-df-buttons div {\n",
              "      margin-bottom: 4px;\n",
              "    }\n",
              "\n",
              "    [theme=dark] .colab-df-convert {\n",
              "      background-color: #3B4455;\n",
              "      fill: #D2E3FC;\n",
              "    }\n",
              "\n",
              "    [theme=dark] .colab-df-convert:hover {\n",
              "      background-color: #434B5C;\n",
              "      box-shadow: 0px 1px 3px 1px rgba(0, 0, 0, 0.15);\n",
              "      filter: drop-shadow(0px 1px 2px rgba(0, 0, 0, 0.3));\n",
              "      fill: #FFFFFF;\n",
              "    }\n",
              "  </style>\n",
              "\n",
              "    <script>\n",
              "      const buttonEl =\n",
              "        document.querySelector('#df-3e0f36e9-1e19-47f3-a7b2-c3539348170d button.colab-df-convert');\n",
              "      buttonEl.style.display =\n",
              "        google.colab.kernel.accessAllowed ? 'block' : 'none';\n",
              "\n",
              "      async function convertToInteractive(key) {\n",
              "        const element = document.querySelector('#df-3e0f36e9-1e19-47f3-a7b2-c3539348170d');\n",
              "        const dataTable =\n",
              "          await google.colab.kernel.invokeFunction('convertToInteractive',\n",
              "                                                    [key], {});\n",
              "        if (!dataTable) return;\n",
              "\n",
              "        const docLinkHtml = 'Like what you see? Visit the ' +\n",
              "          '<a target=\"_blank\" href=https://colab.research.google.com/notebooks/data_table.ipynb>data table notebook</a>'\n",
              "          + ' to learn more about interactive tables.';\n",
              "        element.innerHTML = '';\n",
              "        dataTable['output_type'] = 'display_data';\n",
              "        await google.colab.output.renderOutput(dataTable, element);\n",
              "        const docLink = document.createElement('div');\n",
              "        docLink.innerHTML = docLinkHtml;\n",
              "        element.appendChild(docLink);\n",
              "      }\n",
              "    </script>\n",
              "  </div>\n",
              "\n",
              "\n",
              "<div id=\"df-30a08dbd-4e94-4fb1-b59f-9538ea15f6e1\">\n",
              "  <button class=\"colab-df-quickchart\" onclick=\"quickchart('df-30a08dbd-4e94-4fb1-b59f-9538ea15f6e1')\"\n",
              "            title=\"Suggest charts\"\n",
              "            style=\"display:none;\">\n",
              "\n",
              "<svg xmlns=\"http://www.w3.org/2000/svg\" height=\"24px\"viewBox=\"0 0 24 24\"\n",
              "     width=\"24px\">\n",
              "    <g>\n",
              "        <path d=\"M19 3H5c-1.1 0-2 .9-2 2v14c0 1.1.9 2 2 2h14c1.1 0 2-.9 2-2V5c0-1.1-.9-2-2-2zM9 17H7v-7h2v7zm4 0h-2V7h2v10zm4 0h-2v-4h2v4z\"/>\n",
              "    </g>\n",
              "</svg>\n",
              "  </button>\n",
              "\n",
              "<style>\n",
              "  .colab-df-quickchart {\n",
              "      --bg-color: #E8F0FE;\n",
              "      --fill-color: #1967D2;\n",
              "      --hover-bg-color: #E2EBFA;\n",
              "      --hover-fill-color: #174EA6;\n",
              "      --disabled-fill-color: #AAA;\n",
              "      --disabled-bg-color: #DDD;\n",
              "  }\n",
              "\n",
              "  [theme=dark] .colab-df-quickchart {\n",
              "      --bg-color: #3B4455;\n",
              "      --fill-color: #D2E3FC;\n",
              "      --hover-bg-color: #434B5C;\n",
              "      --hover-fill-color: #FFFFFF;\n",
              "      --disabled-bg-color: #3B4455;\n",
              "      --disabled-fill-color: #666;\n",
              "  }\n",
              "\n",
              "  .colab-df-quickchart {\n",
              "    background-color: var(--bg-color);\n",
              "    border: none;\n",
              "    border-radius: 50%;\n",
              "    cursor: pointer;\n",
              "    display: none;\n",
              "    fill: var(--fill-color);\n",
              "    height: 32px;\n",
              "    padding: 0;\n",
              "    width: 32px;\n",
              "  }\n",
              "\n",
              "  .colab-df-quickchart:hover {\n",
              "    background-color: var(--hover-bg-color);\n",
              "    box-shadow: 0 1px 2px rgba(60, 64, 67, 0.3), 0 1px 3px 1px rgba(60, 64, 67, 0.15);\n",
              "    fill: var(--button-hover-fill-color);\n",
              "  }\n",
              "\n",
              "  .colab-df-quickchart-complete:disabled,\n",
              "  .colab-df-quickchart-complete:disabled:hover {\n",
              "    background-color: var(--disabled-bg-color);\n",
              "    fill: var(--disabled-fill-color);\n",
              "    box-shadow: none;\n",
              "  }\n",
              "\n",
              "  .colab-df-spinner {\n",
              "    border: 2px solid var(--fill-color);\n",
              "    border-color: transparent;\n",
              "    border-bottom-color: var(--fill-color);\n",
              "    animation:\n",
              "      spin 1s steps(1) infinite;\n",
              "  }\n",
              "\n",
              "  @keyframes spin {\n",
              "    0% {\n",
              "      border-color: transparent;\n",
              "      border-bottom-color: var(--fill-color);\n",
              "      border-left-color: var(--fill-color);\n",
              "    }\n",
              "    20% {\n",
              "      border-color: transparent;\n",
              "      border-left-color: var(--fill-color);\n",
              "      border-top-color: var(--fill-color);\n",
              "    }\n",
              "    30% {\n",
              "      border-color: transparent;\n",
              "      border-left-color: var(--fill-color);\n",
              "      border-top-color: var(--fill-color);\n",
              "      border-right-color: var(--fill-color);\n",
              "    }\n",
              "    40% {\n",
              "      border-color: transparent;\n",
              "      border-right-color: var(--fill-color);\n",
              "      border-top-color: var(--fill-color);\n",
              "    }\n",
              "    60% {\n",
              "      border-color: transparent;\n",
              "      border-right-color: var(--fill-color);\n",
              "    }\n",
              "    80% {\n",
              "      border-color: transparent;\n",
              "      border-right-color: var(--fill-color);\n",
              "      border-bottom-color: var(--fill-color);\n",
              "    }\n",
              "    90% {\n",
              "      border-color: transparent;\n",
              "      border-bottom-color: var(--fill-color);\n",
              "    }\n",
              "  }\n",
              "</style>\n",
              "\n",
              "  <script>\n",
              "    async function quickchart(key) {\n",
              "      const quickchartButtonEl =\n",
              "        document.querySelector('#' + key + ' button');\n",
              "      quickchartButtonEl.disabled = true;  // To prevent multiple clicks.\n",
              "      quickchartButtonEl.classList.add('colab-df-spinner');\n",
              "      try {\n",
              "        const charts = await google.colab.kernel.invokeFunction(\n",
              "            'suggestCharts', [key], {});\n",
              "      } catch (error) {\n",
              "        console.error('Error during call to suggestCharts:', error);\n",
              "      }\n",
              "      quickchartButtonEl.classList.remove('colab-df-spinner');\n",
              "      quickchartButtonEl.classList.add('colab-df-quickchart-complete');\n",
              "    }\n",
              "    (() => {\n",
              "      let quickchartButtonEl =\n",
              "        document.querySelector('#df-30a08dbd-4e94-4fb1-b59f-9538ea15f6e1 button');\n",
              "      quickchartButtonEl.style.display =\n",
              "        google.colab.kernel.accessAllowed ? 'block' : 'none';\n",
              "    })();\n",
              "  </script>\n",
              "</div>\n",
              "\n",
              "    </div>\n",
              "  </div>\n"
            ],
            "application/vnd.google.colaboratory.intrinsic+json": {
              "type": "dataframe",
              "summary": "{\n  \"name\": \"datos['Canciones']\",\n  \"rows\": 12,\n  \"fields\": [\n    {\n      \"column\": \"identificador\",\n      \"properties\": {\n        \"dtype\": \"number\",\n        \"std\": 4,\n        \"min\": 10001,\n        \"max\": 10014,\n        \"num_unique_values\": 12,\n        \"samples\": [\n          10013,\n          10012,\n          10001\n        ],\n        \"semantic_type\": \"\",\n        \"description\": \"\"\n      }\n    },\n    {\n      \"column\": \"t\\u00edtulo\",\n      \"properties\": {\n        \"dtype\": \"string\",\n        \"num_unique_values\": 12,\n        \"samples\": [\n          \"Octavo d\\u00eda\",\n          \"Ginza\",\n          \"La tierra del olvido\"\n        ],\n        \"semantic_type\": \"\",\n        \"description\": \"\"\n      }\n    },\n    {\n      \"column\": \"duraci\\u00f3n\",\n      \"properties\": {\n        \"dtype\": \"string\",\n        \"num_unique_values\": 12,\n        \"samples\": [\n          \"00:04:32\",\n          \"00:04:39\",\n          \"00:04:25\"\n        ],\n        \"semantic_type\": \"\",\n        \"description\": \"\"\n      }\n    },\n    {\n      \"column\": \"g\\u00e9nero\",\n      \"properties\": {\n        \"dtype\": \"number\",\n        \"std\": 1,\n        \"min\": 1,\n        \"max\": 4,\n        \"num_unique_values\": 4,\n        \"samples\": [\n          3,\n          2,\n          1\n        ],\n        \"semantic_type\": \"\",\n        \"description\": \"\"\n      }\n    },\n    {\n      \"column\": \"idioma\",\n      \"properties\": {\n        \"dtype\": \"category\",\n        \"num_unique_values\": 1,\n        \"samples\": [\n          \"espa\\u00f1ol\"\n        ],\n        \"semantic_type\": \"\",\n        \"description\": \"\"\n      }\n    },\n    {\n      \"column\": \"artista principal\",\n      \"properties\": {\n        \"dtype\": \"number\",\n        \"std\": 1,\n        \"min\": 50001,\n        \"max\": 50005,\n        \"num_unique_values\": 5,\n        \"samples\": [\n          50003\n        ],\n        \"semantic_type\": \"\",\n        \"description\": \"\"\n      }\n    },\n    {\n      \"column\": \"\\u00e1lbum original\",\n      \"properties\": {\n        \"dtype\": \"number\",\n        \"std\": 3.465704994818675,\n        \"min\": 900001.0,\n        \"max\": 900011.0,\n        \"num_unique_values\": 8,\n        \"samples\": [\n          900002.0\n        ],\n        \"semantic_type\": \"\",\n        \"description\": \"\"\n      }\n    }\n  ]\n}"
            }
          },
          "metadata": {},
          "execution_count": 4
        }
      ]
    },
    {
      "cell_type": "markdown",
      "source": [
        "##2. Se empiezan a ejecutar sqlite"
      ],
      "metadata": {
        "id": "DvTE7wwRBhhk"
      }
    },
    {
      "cell_type": "code",
      "source": [
        "#1. Se crea/lee la base de datos\n",
        "conexion = sqlite3.connect('MusicaColombiana.db')\n",
        "cursor = conexion.cursor()"
      ],
      "metadata": {
        "id": "i800-V4UBMQI"
      },
      "execution_count": null,
      "outputs": []
    },
    {
      "cell_type": "code",
      "source": [
        "#Dado que se tienen varias tablas, usaremos un ciclo para pasar la información desde el diccionario hasta la base de datos creada\n",
        "for hoja, datos in datos.items():\n",
        "  datos.to_sql(hoja, conexion, if_exists = 'replace', index = False)"
      ],
      "metadata": {
        "id": "p1wKLKluBcED"
      },
      "execution_count": null,
      "outputs": []
    },
    {
      "cell_type": "code",
      "source": [
        "#Confirmamos los cambios ejecutados en la base de datos\n",
        "conexion.commit()"
      ],
      "metadata": {
        "id": "kMMrvL0UCGJm"
      },
      "execution_count": null,
      "outputs": []
    },
    {
      "cell_type": "code",
      "source": [
        "#Creamos la consultas (formato de texto), en SQL\n",
        "#Para visualizar los nombres de todas las tablas que tiene la base de datos\n",
        "consulta = '''SELECT name\n",
        "           FROM sqlite_master\n",
        "           WHERE type = 'table' '''\n",
        "\n",
        "#Ejecutamos la consulta\n",
        "cursor.execute(consulta)\n",
        "\n",
        "#Mostramos los resultados\n",
        "print(cursor.fetchall()) #fetchall: Se trae toda la información de la base de datos para visualizar"
      ],
      "metadata": {
        "colab": {
          "base_uri": "https://localhost:8080/"
        },
        "id": "BXsW2nljCU_t",
        "outputId": "8678073f-07d0-4575-83c8-0338a02763fc"
      },
      "execution_count": null,
      "outputs": [
        {
          "output_type": "stream",
          "name": "stdout",
          "text": [
            "[('Artistas',), ('Canciones',), ('Álbumes',), ('Géneros',)]\n"
          ]
        }
      ]
    },
    {
      "cell_type": "markdown",
      "source": [
        "*()=tuplas\n",
        "\n",
        "*[]=listas"
      ],
      "metadata": {
        "id": "BnrWpBxTDJKW"
      }
    },
    {
      "cell_type": "code",
      "source": [
        "#Para visualizar toda la información de la tabla 'Artistas'\n",
        "consulta = '''SELECT *\n",
        "           FROM Artistas'''\n",
        "\n",
        "#Ejecutamos la consulta\n",
        "cursor.execute(consulta)\n",
        "\n",
        "#Mostramos los resultados\n",
        "artista = cursor.fetchall()\n",
        "for fila in artista:\n",
        "  print(fila)"
      ],
      "metadata": {
        "colab": {
          "base_uri": "https://localhost:8080/"
        },
        "id": "QwLQLtIQDrjB",
        "outputId": "cfac9899-dca6-4ffd-b5b2-82ba0371efb6"
      },
      "execution_count": null,
      "outputs": [
        {
          "output_type": "stream",
          "name": "stdout",
          "text": [
            "(50001, 'Carlos Vives', 1986, None, 'Solista', 1)\n",
            "(50002, 'Niche', 1979, None, 'Grupo', 2)\n",
            "(50003, 'Shakira', 1990, None, 'Solista', 3)\n",
            "(50004, 'Binomio de Oro de América', 1976, None, 'Grupo', 1)\n",
            "(50005, 'J Balvin', 2006, None, 'Solista', 4)\n"
          ]
        }
      ]
    },
    {
      "cell_type": "code",
      "source": [
        "#Para convertir el resultado de la consulta en un DataFrame de pandas\n",
        "columnas = [descripcion[0] for descripcion in cursor.description]\n",
        "df_artistas = pd.DataFrame(artista, columns = columnas)\n",
        "df_artistas"
      ],
      "metadata": {
        "colab": {
          "base_uri": "https://localhost:8080/",
          "height": 206
        },
        "id": "FmutWi-mEoKu",
        "outputId": "822ec9ec-67b1-4d0a-c97d-e10d9d80c082"
      },
      "execution_count": null,
      "outputs": [
        {
          "output_type": "execute_result",
          "data": {
            "text/plain": [
              "   identificador                     nombre  año de lanzamiento año de retiro  \\\n",
              "0          50001               Carlos Vives                1986          None   \n",
              "1          50002                      Niche                1979          None   \n",
              "2          50003                    Shakira                1990          None   \n",
              "3          50004  Binomio de Oro de América                1976          None   \n",
              "4          50005                   J Balvin                2006          None   \n",
              "\n",
              "      tipo  género principal  \n",
              "0  Solista                 1  \n",
              "1    Grupo                 2  \n",
              "2  Solista                 3  \n",
              "3    Grupo                 1  \n",
              "4  Solista                 4  "
            ],
            "text/html": [
              "\n",
              "  <div id=\"df-af9aab0b-66be-4e49-9fa9-fb80719c9f9e\" class=\"colab-df-container\">\n",
              "    <div>\n",
              "<style scoped>\n",
              "    .dataframe tbody tr th:only-of-type {\n",
              "        vertical-align: middle;\n",
              "    }\n",
              "\n",
              "    .dataframe tbody tr th {\n",
              "        vertical-align: top;\n",
              "    }\n",
              "\n",
              "    .dataframe thead th {\n",
              "        text-align: right;\n",
              "    }\n",
              "</style>\n",
              "<table border=\"1\" class=\"dataframe\">\n",
              "  <thead>\n",
              "    <tr style=\"text-align: right;\">\n",
              "      <th></th>\n",
              "      <th>identificador</th>\n",
              "      <th>nombre</th>\n",
              "      <th>año de lanzamiento</th>\n",
              "      <th>año de retiro</th>\n",
              "      <th>tipo</th>\n",
              "      <th>género principal</th>\n",
              "    </tr>\n",
              "  </thead>\n",
              "  <tbody>\n",
              "    <tr>\n",
              "      <th>0</th>\n",
              "      <td>50001</td>\n",
              "      <td>Carlos Vives</td>\n",
              "      <td>1986</td>\n",
              "      <td>None</td>\n",
              "      <td>Solista</td>\n",
              "      <td>1</td>\n",
              "    </tr>\n",
              "    <tr>\n",
              "      <th>1</th>\n",
              "      <td>50002</td>\n",
              "      <td>Niche</td>\n",
              "      <td>1979</td>\n",
              "      <td>None</td>\n",
              "      <td>Grupo</td>\n",
              "      <td>2</td>\n",
              "    </tr>\n",
              "    <tr>\n",
              "      <th>2</th>\n",
              "      <td>50003</td>\n",
              "      <td>Shakira</td>\n",
              "      <td>1990</td>\n",
              "      <td>None</td>\n",
              "      <td>Solista</td>\n",
              "      <td>3</td>\n",
              "    </tr>\n",
              "    <tr>\n",
              "      <th>3</th>\n",
              "      <td>50004</td>\n",
              "      <td>Binomio de Oro de América</td>\n",
              "      <td>1976</td>\n",
              "      <td>None</td>\n",
              "      <td>Grupo</td>\n",
              "      <td>1</td>\n",
              "    </tr>\n",
              "    <tr>\n",
              "      <th>4</th>\n",
              "      <td>50005</td>\n",
              "      <td>J Balvin</td>\n",
              "      <td>2006</td>\n",
              "      <td>None</td>\n",
              "      <td>Solista</td>\n",
              "      <td>4</td>\n",
              "    </tr>\n",
              "  </tbody>\n",
              "</table>\n",
              "</div>\n",
              "    <div class=\"colab-df-buttons\">\n",
              "\n",
              "  <div class=\"colab-df-container\">\n",
              "    <button class=\"colab-df-convert\" onclick=\"convertToInteractive('df-af9aab0b-66be-4e49-9fa9-fb80719c9f9e')\"\n",
              "            title=\"Convert this dataframe to an interactive table.\"\n",
              "            style=\"display:none;\">\n",
              "\n",
              "  <svg xmlns=\"http://www.w3.org/2000/svg\" height=\"24px\" viewBox=\"0 -960 960 960\">\n",
              "    <path d=\"M120-120v-720h720v720H120Zm60-500h600v-160H180v160Zm220 220h160v-160H400v160Zm0 220h160v-160H400v160ZM180-400h160v-160H180v160Zm440 0h160v-160H620v160ZM180-180h160v-160H180v160Zm440 0h160v-160H620v160Z\"/>\n",
              "  </svg>\n",
              "    </button>\n",
              "\n",
              "  <style>\n",
              "    .colab-df-container {\n",
              "      display:flex;\n",
              "      gap: 12px;\n",
              "    }\n",
              "\n",
              "    .colab-df-convert {\n",
              "      background-color: #E8F0FE;\n",
              "      border: none;\n",
              "      border-radius: 50%;\n",
              "      cursor: pointer;\n",
              "      display: none;\n",
              "      fill: #1967D2;\n",
              "      height: 32px;\n",
              "      padding: 0 0 0 0;\n",
              "      width: 32px;\n",
              "    }\n",
              "\n",
              "    .colab-df-convert:hover {\n",
              "      background-color: #E2EBFA;\n",
              "      box-shadow: 0px 1px 2px rgba(60, 64, 67, 0.3), 0px 1px 3px 1px rgba(60, 64, 67, 0.15);\n",
              "      fill: #174EA6;\n",
              "    }\n",
              "\n",
              "    .colab-df-buttons div {\n",
              "      margin-bottom: 4px;\n",
              "    }\n",
              "\n",
              "    [theme=dark] .colab-df-convert {\n",
              "      background-color: #3B4455;\n",
              "      fill: #D2E3FC;\n",
              "    }\n",
              "\n",
              "    [theme=dark] .colab-df-convert:hover {\n",
              "      background-color: #434B5C;\n",
              "      box-shadow: 0px 1px 3px 1px rgba(0, 0, 0, 0.15);\n",
              "      filter: drop-shadow(0px 1px 2px rgba(0, 0, 0, 0.3));\n",
              "      fill: #FFFFFF;\n",
              "    }\n",
              "  </style>\n",
              "\n",
              "    <script>\n",
              "      const buttonEl =\n",
              "        document.querySelector('#df-af9aab0b-66be-4e49-9fa9-fb80719c9f9e button.colab-df-convert');\n",
              "      buttonEl.style.display =\n",
              "        google.colab.kernel.accessAllowed ? 'block' : 'none';\n",
              "\n",
              "      async function convertToInteractive(key) {\n",
              "        const element = document.querySelector('#df-af9aab0b-66be-4e49-9fa9-fb80719c9f9e');\n",
              "        const dataTable =\n",
              "          await google.colab.kernel.invokeFunction('convertToInteractive',\n",
              "                                                    [key], {});\n",
              "        if (!dataTable) return;\n",
              "\n",
              "        const docLinkHtml = 'Like what you see? Visit the ' +\n",
              "          '<a target=\"_blank\" href=https://colab.research.google.com/notebooks/data_table.ipynb>data table notebook</a>'\n",
              "          + ' to learn more about interactive tables.';\n",
              "        element.innerHTML = '';\n",
              "        dataTable['output_type'] = 'display_data';\n",
              "        await google.colab.output.renderOutput(dataTable, element);\n",
              "        const docLink = document.createElement('div');\n",
              "        docLink.innerHTML = docLinkHtml;\n",
              "        element.appendChild(docLink);\n",
              "      }\n",
              "    </script>\n",
              "  </div>\n",
              "\n",
              "\n",
              "<div id=\"df-d4220a43-e8a3-491c-846a-05c2b11caaa5\">\n",
              "  <button class=\"colab-df-quickchart\" onclick=\"quickchart('df-d4220a43-e8a3-491c-846a-05c2b11caaa5')\"\n",
              "            title=\"Suggest charts\"\n",
              "            style=\"display:none;\">\n",
              "\n",
              "<svg xmlns=\"http://www.w3.org/2000/svg\" height=\"24px\"viewBox=\"0 0 24 24\"\n",
              "     width=\"24px\">\n",
              "    <g>\n",
              "        <path d=\"M19 3H5c-1.1 0-2 .9-2 2v14c0 1.1.9 2 2 2h14c1.1 0 2-.9 2-2V5c0-1.1-.9-2-2-2zM9 17H7v-7h2v7zm4 0h-2V7h2v10zm4 0h-2v-4h2v4z\"/>\n",
              "    </g>\n",
              "</svg>\n",
              "  </button>\n",
              "\n",
              "<style>\n",
              "  .colab-df-quickchart {\n",
              "      --bg-color: #E8F0FE;\n",
              "      --fill-color: #1967D2;\n",
              "      --hover-bg-color: #E2EBFA;\n",
              "      --hover-fill-color: #174EA6;\n",
              "      --disabled-fill-color: #AAA;\n",
              "      --disabled-bg-color: #DDD;\n",
              "  }\n",
              "\n",
              "  [theme=dark] .colab-df-quickchart {\n",
              "      --bg-color: #3B4455;\n",
              "      --fill-color: #D2E3FC;\n",
              "      --hover-bg-color: #434B5C;\n",
              "      --hover-fill-color: #FFFFFF;\n",
              "      --disabled-bg-color: #3B4455;\n",
              "      --disabled-fill-color: #666;\n",
              "  }\n",
              "\n",
              "  .colab-df-quickchart {\n",
              "    background-color: var(--bg-color);\n",
              "    border: none;\n",
              "    border-radius: 50%;\n",
              "    cursor: pointer;\n",
              "    display: none;\n",
              "    fill: var(--fill-color);\n",
              "    height: 32px;\n",
              "    padding: 0;\n",
              "    width: 32px;\n",
              "  }\n",
              "\n",
              "  .colab-df-quickchart:hover {\n",
              "    background-color: var(--hover-bg-color);\n",
              "    box-shadow: 0 1px 2px rgba(60, 64, 67, 0.3), 0 1px 3px 1px rgba(60, 64, 67, 0.15);\n",
              "    fill: var(--button-hover-fill-color);\n",
              "  }\n",
              "\n",
              "  .colab-df-quickchart-complete:disabled,\n",
              "  .colab-df-quickchart-complete:disabled:hover {\n",
              "    background-color: var(--disabled-bg-color);\n",
              "    fill: var(--disabled-fill-color);\n",
              "    box-shadow: none;\n",
              "  }\n",
              "\n",
              "  .colab-df-spinner {\n",
              "    border: 2px solid var(--fill-color);\n",
              "    border-color: transparent;\n",
              "    border-bottom-color: var(--fill-color);\n",
              "    animation:\n",
              "      spin 1s steps(1) infinite;\n",
              "  }\n",
              "\n",
              "  @keyframes spin {\n",
              "    0% {\n",
              "      border-color: transparent;\n",
              "      border-bottom-color: var(--fill-color);\n",
              "      border-left-color: var(--fill-color);\n",
              "    }\n",
              "    20% {\n",
              "      border-color: transparent;\n",
              "      border-left-color: var(--fill-color);\n",
              "      border-top-color: var(--fill-color);\n",
              "    }\n",
              "    30% {\n",
              "      border-color: transparent;\n",
              "      border-left-color: var(--fill-color);\n",
              "      border-top-color: var(--fill-color);\n",
              "      border-right-color: var(--fill-color);\n",
              "    }\n",
              "    40% {\n",
              "      border-color: transparent;\n",
              "      border-right-color: var(--fill-color);\n",
              "      border-top-color: var(--fill-color);\n",
              "    }\n",
              "    60% {\n",
              "      border-color: transparent;\n",
              "      border-right-color: var(--fill-color);\n",
              "    }\n",
              "    80% {\n",
              "      border-color: transparent;\n",
              "      border-right-color: var(--fill-color);\n",
              "      border-bottom-color: var(--fill-color);\n",
              "    }\n",
              "    90% {\n",
              "      border-color: transparent;\n",
              "      border-bottom-color: var(--fill-color);\n",
              "    }\n",
              "  }\n",
              "</style>\n",
              "\n",
              "  <script>\n",
              "    async function quickchart(key) {\n",
              "      const quickchartButtonEl =\n",
              "        document.querySelector('#' + key + ' button');\n",
              "      quickchartButtonEl.disabled = true;  // To prevent multiple clicks.\n",
              "      quickchartButtonEl.classList.add('colab-df-spinner');\n",
              "      try {\n",
              "        const charts = await google.colab.kernel.invokeFunction(\n",
              "            'suggestCharts', [key], {});\n",
              "      } catch (error) {\n",
              "        console.error('Error during call to suggestCharts:', error);\n",
              "      }\n",
              "      quickchartButtonEl.classList.remove('colab-df-spinner');\n",
              "      quickchartButtonEl.classList.add('colab-df-quickchart-complete');\n",
              "    }\n",
              "    (() => {\n",
              "      let quickchartButtonEl =\n",
              "        document.querySelector('#df-d4220a43-e8a3-491c-846a-05c2b11caaa5 button');\n",
              "      quickchartButtonEl.style.display =\n",
              "        google.colab.kernel.accessAllowed ? 'block' : 'none';\n",
              "    })();\n",
              "  </script>\n",
              "</div>\n",
              "\n",
              "  <div id=\"id_a39b0a20-558c-4e51-ba48-5f5841f29965\">\n",
              "    <style>\n",
              "      .colab-df-generate {\n",
              "        background-color: #E8F0FE;\n",
              "        border: none;\n",
              "        border-radius: 50%;\n",
              "        cursor: pointer;\n",
              "        display: none;\n",
              "        fill: #1967D2;\n",
              "        height: 32px;\n",
              "        padding: 0 0 0 0;\n",
              "        width: 32px;\n",
              "      }\n",
              "\n",
              "      .colab-df-generate:hover {\n",
              "        background-color: #E2EBFA;\n",
              "        box-shadow: 0px 1px 2px rgba(60, 64, 67, 0.3), 0px 1px 3px 1px rgba(60, 64, 67, 0.15);\n",
              "        fill: #174EA6;\n",
              "      }\n",
              "\n",
              "      [theme=dark] .colab-df-generate {\n",
              "        background-color: #3B4455;\n",
              "        fill: #D2E3FC;\n",
              "      }\n",
              "\n",
              "      [theme=dark] .colab-df-generate:hover {\n",
              "        background-color: #434B5C;\n",
              "        box-shadow: 0px 1px 3px 1px rgba(0, 0, 0, 0.15);\n",
              "        filter: drop-shadow(0px 1px 2px rgba(0, 0, 0, 0.3));\n",
              "        fill: #FFFFFF;\n",
              "      }\n",
              "    </style>\n",
              "    <button class=\"colab-df-generate\" onclick=\"generateWithVariable('df_artistas')\"\n",
              "            title=\"Generate code using this dataframe.\"\n",
              "            style=\"display:none;\">\n",
              "\n",
              "  <svg xmlns=\"http://www.w3.org/2000/svg\" height=\"24px\"viewBox=\"0 0 24 24\"\n",
              "       width=\"24px\">\n",
              "    <path d=\"M7,19H8.4L18.45,9,17,7.55,7,17.6ZM5,21V16.75L18.45,3.32a2,2,0,0,1,2.83,0l1.4,1.43a1.91,1.91,0,0,1,.58,1.4,1.91,1.91,0,0,1-.58,1.4L9.25,21ZM18.45,9,17,7.55Zm-12,3A5.31,5.31,0,0,0,4.9,8.1,5.31,5.31,0,0,0,1,6.5,5.31,5.31,0,0,0,4.9,4.9,5.31,5.31,0,0,0,6.5,1,5.31,5.31,0,0,0,8.1,4.9,5.31,5.31,0,0,0,12,6.5,5.46,5.46,0,0,0,6.5,12Z\"/>\n",
              "  </svg>\n",
              "    </button>\n",
              "    <script>\n",
              "      (() => {\n",
              "      const buttonEl =\n",
              "        document.querySelector('#id_a39b0a20-558c-4e51-ba48-5f5841f29965 button.colab-df-generate');\n",
              "      buttonEl.style.display =\n",
              "        google.colab.kernel.accessAllowed ? 'block' : 'none';\n",
              "\n",
              "      buttonEl.onclick = () => {\n",
              "        google.colab.notebook.generateWithVariable('df_artistas');\n",
              "      }\n",
              "      })();\n",
              "    </script>\n",
              "  </div>\n",
              "\n",
              "    </div>\n",
              "  </div>\n"
            ],
            "application/vnd.google.colaboratory.intrinsic+json": {
              "type": "dataframe",
              "variable_name": "df_artistas",
              "repr_error": "Out of range float values are not JSON compliant: nan"
            }
          },
          "metadata": {},
          "execution_count": 10
        }
      ]
    },
    {
      "cell_type": "code",
      "source": [
        "#Para mirar la información de TODAS LAS COLUMNAS\n",
        "consulta = '''PRAGMA table_info(Artistas)'''\n",
        "\n",
        "#Ejecutamos la consulta\n",
        "cursor.execute(consulta)\n",
        "\n",
        "#Mostramos los resultados\n",
        "resultados = cursor.fetchall()\n",
        "for resultado in resultados:\n",
        "  print(resultado)"
      ],
      "metadata": {
        "colab": {
          "base_uri": "https://localhost:8080/"
        },
        "id": "B5j2Bs5BE8_c",
        "outputId": "aa0d52b9-20d8-477a-cd5f-6d0588c5519a"
      },
      "execution_count": null,
      "outputs": [
        {
          "output_type": "stream",
          "name": "stdout",
          "text": [
            "(0, 'identificador', 'INTEGER', 0, None, 0)\n",
            "(1, 'nombre', 'TEXT', 0, None, 0)\n",
            "(2, 'año de lanzamiento', 'INTEGER', 0, None, 0)\n",
            "(3, 'año de retiro', 'REAL', 0, None, 0)\n",
            "(4, 'tipo', 'TEXT', 0, None, 0)\n",
            "(5, 'género principal', 'INTEGER', 0, None, 0)\n"
          ]
        }
      ]
    },
    {
      "cell_type": "markdown",
      "source": [
        "###2.1. Ejemplos de Consulta"
      ],
      "metadata": {
        "id": "ZVS9H7zbHoeu"
      }
    },
    {
      "cell_type": "markdown",
      "source": [
        "1. Selecciones el título, la fecha, de lanzamiento y el sello discográfico, de la tabla Álbumes, y ordenar el resultado por título de manera ascendente"
      ],
      "metadata": {
        "id": "M9tU7riDH1SL"
      }
    },
    {
      "cell_type": "code",
      "source": [
        "consulta = '''SELECT título AS álbum,\n",
        "             \"fecha de lanzamiento\" as lanzamiento,\n",
        "             \"sello discográfico\" as sello\n",
        "           FROM Álbumes\n",
        "           ORDER BY título ASC'''\n",
        "\n",
        "#Ejecutamos la consulta\n",
        "cursor.execute(consulta)\n",
        "\n",
        "#Mostramos los resultados\n",
        "resultados = cursor.fetchall()\n",
        "for resultado in resultados:\n",
        "  print(resultado)"
      ],
      "metadata": {
        "colab": {
          "base_uri": "https://localhost:8080/"
        },
        "id": "o5LK0MaPHLBy",
        "outputId": "477f1708-002c-4c54-a304-275d54ceb368"
      },
      "execution_count": null,
      "outputs": [
        {
          "output_type": "stream",
          "name": "stdout",
          "text": [
            "('Cielo de tambores', '1990-12-20 00:00:00', 'Codiscos')\n",
            "('Déjame entrar', '2001-11-06 00:00:00', 'EMI Latin')\n",
            "('El binomio de oro', '1976-11-03 00:00:00', 'Codiscos')\n",
            "('La tierra del olvido', '1995-07-25 00:00:00', 'EMI Latin')\n",
            "('No hay quinto malo', None, 'Internacional Records')\n",
            "('Por lo alto', '1976-11-02 00:00:00', 'Codiscos')\n",
            "('Vibras', '2018-05-25 00:00:00', 'Universal')\n",
            "('¿Dónde están los ladrones?', '1998-09-29 00:00:00', 'Sony Music')\n"
          ]
        }
      ]
    },
    {
      "cell_type": "code",
      "source": [
        "columnas = [descripcion[0] for descripcion in cursor.description]\n",
        "df_albumes = pd.DataFrame(resultados, columns = columnas)\n",
        "df_albumes"
      ],
      "metadata": {
        "colab": {
          "base_uri": "https://localhost:8080/",
          "height": 300
        },
        "id": "6OH8ufmFJy5p",
        "outputId": "a815e1fa-4301-4004-ca3e-acd186ec4aa7"
      },
      "execution_count": null,
      "outputs": [
        {
          "output_type": "execute_result",
          "data": {
            "text/plain": [
              "                        álbum          lanzamiento                  sello\n",
              "0           Cielo de tambores  1990-12-20 00:00:00               Codiscos\n",
              "1               Déjame entrar  2001-11-06 00:00:00              EMI Latin\n",
              "2           El binomio de oro  1976-11-03 00:00:00               Codiscos\n",
              "3        La tierra del olvido  1995-07-25 00:00:00              EMI Latin\n",
              "4          No hay quinto malo                 None  Internacional Records\n",
              "5                 Por lo alto  1976-11-02 00:00:00               Codiscos\n",
              "6                      Vibras  2018-05-25 00:00:00              Universal\n",
              "7  ¿Dónde están los ladrones?  1998-09-29 00:00:00             Sony Music"
            ],
            "text/html": [
              "\n",
              "  <div id=\"df-f731c658-d6b3-4265-8bdf-72680ac46048\" class=\"colab-df-container\">\n",
              "    <div>\n",
              "<style scoped>\n",
              "    .dataframe tbody tr th:only-of-type {\n",
              "        vertical-align: middle;\n",
              "    }\n",
              "\n",
              "    .dataframe tbody tr th {\n",
              "        vertical-align: top;\n",
              "    }\n",
              "\n",
              "    .dataframe thead th {\n",
              "        text-align: right;\n",
              "    }\n",
              "</style>\n",
              "<table border=\"1\" class=\"dataframe\">\n",
              "  <thead>\n",
              "    <tr style=\"text-align: right;\">\n",
              "      <th></th>\n",
              "      <th>álbum</th>\n",
              "      <th>lanzamiento</th>\n",
              "      <th>sello</th>\n",
              "    </tr>\n",
              "  </thead>\n",
              "  <tbody>\n",
              "    <tr>\n",
              "      <th>0</th>\n",
              "      <td>Cielo de tambores</td>\n",
              "      <td>1990-12-20 00:00:00</td>\n",
              "      <td>Codiscos</td>\n",
              "    </tr>\n",
              "    <tr>\n",
              "      <th>1</th>\n",
              "      <td>Déjame entrar</td>\n",
              "      <td>2001-11-06 00:00:00</td>\n",
              "      <td>EMI Latin</td>\n",
              "    </tr>\n",
              "    <tr>\n",
              "      <th>2</th>\n",
              "      <td>El binomio de oro</td>\n",
              "      <td>1976-11-03 00:00:00</td>\n",
              "      <td>Codiscos</td>\n",
              "    </tr>\n",
              "    <tr>\n",
              "      <th>3</th>\n",
              "      <td>La tierra del olvido</td>\n",
              "      <td>1995-07-25 00:00:00</td>\n",
              "      <td>EMI Latin</td>\n",
              "    </tr>\n",
              "    <tr>\n",
              "      <th>4</th>\n",
              "      <td>No hay quinto malo</td>\n",
              "      <td>None</td>\n",
              "      <td>Internacional Records</td>\n",
              "    </tr>\n",
              "    <tr>\n",
              "      <th>5</th>\n",
              "      <td>Por lo alto</td>\n",
              "      <td>1976-11-02 00:00:00</td>\n",
              "      <td>Codiscos</td>\n",
              "    </tr>\n",
              "    <tr>\n",
              "      <th>6</th>\n",
              "      <td>Vibras</td>\n",
              "      <td>2018-05-25 00:00:00</td>\n",
              "      <td>Universal</td>\n",
              "    </tr>\n",
              "    <tr>\n",
              "      <th>7</th>\n",
              "      <td>¿Dónde están los ladrones?</td>\n",
              "      <td>1998-09-29 00:00:00</td>\n",
              "      <td>Sony Music</td>\n",
              "    </tr>\n",
              "  </tbody>\n",
              "</table>\n",
              "</div>\n",
              "    <div class=\"colab-df-buttons\">\n",
              "\n",
              "  <div class=\"colab-df-container\">\n",
              "    <button class=\"colab-df-convert\" onclick=\"convertToInteractive('df-f731c658-d6b3-4265-8bdf-72680ac46048')\"\n",
              "            title=\"Convert this dataframe to an interactive table.\"\n",
              "            style=\"display:none;\">\n",
              "\n",
              "  <svg xmlns=\"http://www.w3.org/2000/svg\" height=\"24px\" viewBox=\"0 -960 960 960\">\n",
              "    <path d=\"M120-120v-720h720v720H120Zm60-500h600v-160H180v160Zm220 220h160v-160H400v160Zm0 220h160v-160H400v160ZM180-400h160v-160H180v160Zm440 0h160v-160H620v160ZM180-180h160v-160H180v160Zm440 0h160v-160H620v160Z\"/>\n",
              "  </svg>\n",
              "    </button>\n",
              "\n",
              "  <style>\n",
              "    .colab-df-container {\n",
              "      display:flex;\n",
              "      gap: 12px;\n",
              "    }\n",
              "\n",
              "    .colab-df-convert {\n",
              "      background-color: #E8F0FE;\n",
              "      border: none;\n",
              "      border-radius: 50%;\n",
              "      cursor: pointer;\n",
              "      display: none;\n",
              "      fill: #1967D2;\n",
              "      height: 32px;\n",
              "      padding: 0 0 0 0;\n",
              "      width: 32px;\n",
              "    }\n",
              "\n",
              "    .colab-df-convert:hover {\n",
              "      background-color: #E2EBFA;\n",
              "      box-shadow: 0px 1px 2px rgba(60, 64, 67, 0.3), 0px 1px 3px 1px rgba(60, 64, 67, 0.15);\n",
              "      fill: #174EA6;\n",
              "    }\n",
              "\n",
              "    .colab-df-buttons div {\n",
              "      margin-bottom: 4px;\n",
              "    }\n",
              "\n",
              "    [theme=dark] .colab-df-convert {\n",
              "      background-color: #3B4455;\n",
              "      fill: #D2E3FC;\n",
              "    }\n",
              "\n",
              "    [theme=dark] .colab-df-convert:hover {\n",
              "      background-color: #434B5C;\n",
              "      box-shadow: 0px 1px 3px 1px rgba(0, 0, 0, 0.15);\n",
              "      filter: drop-shadow(0px 1px 2px rgba(0, 0, 0, 0.3));\n",
              "      fill: #FFFFFF;\n",
              "    }\n",
              "  </style>\n",
              "\n",
              "    <script>\n",
              "      const buttonEl =\n",
              "        document.querySelector('#df-f731c658-d6b3-4265-8bdf-72680ac46048 button.colab-df-convert');\n",
              "      buttonEl.style.display =\n",
              "        google.colab.kernel.accessAllowed ? 'block' : 'none';\n",
              "\n",
              "      async function convertToInteractive(key) {\n",
              "        const element = document.querySelector('#df-f731c658-d6b3-4265-8bdf-72680ac46048');\n",
              "        const dataTable =\n",
              "          await google.colab.kernel.invokeFunction('convertToInteractive',\n",
              "                                                    [key], {});\n",
              "        if (!dataTable) return;\n",
              "\n",
              "        const docLinkHtml = 'Like what you see? Visit the ' +\n",
              "          '<a target=\"_blank\" href=https://colab.research.google.com/notebooks/data_table.ipynb>data table notebook</a>'\n",
              "          + ' to learn more about interactive tables.';\n",
              "        element.innerHTML = '';\n",
              "        dataTable['output_type'] = 'display_data';\n",
              "        await google.colab.output.renderOutput(dataTable, element);\n",
              "        const docLink = document.createElement('div');\n",
              "        docLink.innerHTML = docLinkHtml;\n",
              "        element.appendChild(docLink);\n",
              "      }\n",
              "    </script>\n",
              "  </div>\n",
              "\n",
              "\n",
              "<div id=\"df-efe954ab-faeb-461a-8268-e7b293a0e821\">\n",
              "  <button class=\"colab-df-quickchart\" onclick=\"quickchart('df-efe954ab-faeb-461a-8268-e7b293a0e821')\"\n",
              "            title=\"Suggest charts\"\n",
              "            style=\"display:none;\">\n",
              "\n",
              "<svg xmlns=\"http://www.w3.org/2000/svg\" height=\"24px\"viewBox=\"0 0 24 24\"\n",
              "     width=\"24px\">\n",
              "    <g>\n",
              "        <path d=\"M19 3H5c-1.1 0-2 .9-2 2v14c0 1.1.9 2 2 2h14c1.1 0 2-.9 2-2V5c0-1.1-.9-2-2-2zM9 17H7v-7h2v7zm4 0h-2V7h2v10zm4 0h-2v-4h2v4z\"/>\n",
              "    </g>\n",
              "</svg>\n",
              "  </button>\n",
              "\n",
              "<style>\n",
              "  .colab-df-quickchart {\n",
              "      --bg-color: #E8F0FE;\n",
              "      --fill-color: #1967D2;\n",
              "      --hover-bg-color: #E2EBFA;\n",
              "      --hover-fill-color: #174EA6;\n",
              "      --disabled-fill-color: #AAA;\n",
              "      --disabled-bg-color: #DDD;\n",
              "  }\n",
              "\n",
              "  [theme=dark] .colab-df-quickchart {\n",
              "      --bg-color: #3B4455;\n",
              "      --fill-color: #D2E3FC;\n",
              "      --hover-bg-color: #434B5C;\n",
              "      --hover-fill-color: #FFFFFF;\n",
              "      --disabled-bg-color: #3B4455;\n",
              "      --disabled-fill-color: #666;\n",
              "  }\n",
              "\n",
              "  .colab-df-quickchart {\n",
              "    background-color: var(--bg-color);\n",
              "    border: none;\n",
              "    border-radius: 50%;\n",
              "    cursor: pointer;\n",
              "    display: none;\n",
              "    fill: var(--fill-color);\n",
              "    height: 32px;\n",
              "    padding: 0;\n",
              "    width: 32px;\n",
              "  }\n",
              "\n",
              "  .colab-df-quickchart:hover {\n",
              "    background-color: var(--hover-bg-color);\n",
              "    box-shadow: 0 1px 2px rgba(60, 64, 67, 0.3), 0 1px 3px 1px rgba(60, 64, 67, 0.15);\n",
              "    fill: var(--button-hover-fill-color);\n",
              "  }\n",
              "\n",
              "  .colab-df-quickchart-complete:disabled,\n",
              "  .colab-df-quickchart-complete:disabled:hover {\n",
              "    background-color: var(--disabled-bg-color);\n",
              "    fill: var(--disabled-fill-color);\n",
              "    box-shadow: none;\n",
              "  }\n",
              "\n",
              "  .colab-df-spinner {\n",
              "    border: 2px solid var(--fill-color);\n",
              "    border-color: transparent;\n",
              "    border-bottom-color: var(--fill-color);\n",
              "    animation:\n",
              "      spin 1s steps(1) infinite;\n",
              "  }\n",
              "\n",
              "  @keyframes spin {\n",
              "    0% {\n",
              "      border-color: transparent;\n",
              "      border-bottom-color: var(--fill-color);\n",
              "      border-left-color: var(--fill-color);\n",
              "    }\n",
              "    20% {\n",
              "      border-color: transparent;\n",
              "      border-left-color: var(--fill-color);\n",
              "      border-top-color: var(--fill-color);\n",
              "    }\n",
              "    30% {\n",
              "      border-color: transparent;\n",
              "      border-left-color: var(--fill-color);\n",
              "      border-top-color: var(--fill-color);\n",
              "      border-right-color: var(--fill-color);\n",
              "    }\n",
              "    40% {\n",
              "      border-color: transparent;\n",
              "      border-right-color: var(--fill-color);\n",
              "      border-top-color: var(--fill-color);\n",
              "    }\n",
              "    60% {\n",
              "      border-color: transparent;\n",
              "      border-right-color: var(--fill-color);\n",
              "    }\n",
              "    80% {\n",
              "      border-color: transparent;\n",
              "      border-right-color: var(--fill-color);\n",
              "      border-bottom-color: var(--fill-color);\n",
              "    }\n",
              "    90% {\n",
              "      border-color: transparent;\n",
              "      border-bottom-color: var(--fill-color);\n",
              "    }\n",
              "  }\n",
              "</style>\n",
              "\n",
              "  <script>\n",
              "    async function quickchart(key) {\n",
              "      const quickchartButtonEl =\n",
              "        document.querySelector('#' + key + ' button');\n",
              "      quickchartButtonEl.disabled = true;  // To prevent multiple clicks.\n",
              "      quickchartButtonEl.classList.add('colab-df-spinner');\n",
              "      try {\n",
              "        const charts = await google.colab.kernel.invokeFunction(\n",
              "            'suggestCharts', [key], {});\n",
              "      } catch (error) {\n",
              "        console.error('Error during call to suggestCharts:', error);\n",
              "      }\n",
              "      quickchartButtonEl.classList.remove('colab-df-spinner');\n",
              "      quickchartButtonEl.classList.add('colab-df-quickchart-complete');\n",
              "    }\n",
              "    (() => {\n",
              "      let quickchartButtonEl =\n",
              "        document.querySelector('#df-efe954ab-faeb-461a-8268-e7b293a0e821 button');\n",
              "      quickchartButtonEl.style.display =\n",
              "        google.colab.kernel.accessAllowed ? 'block' : 'none';\n",
              "    })();\n",
              "  </script>\n",
              "</div>\n",
              "\n",
              "  <div id=\"id_5d714828-b018-4492-9496-5bf9846463ef\">\n",
              "    <style>\n",
              "      .colab-df-generate {\n",
              "        background-color: #E8F0FE;\n",
              "        border: none;\n",
              "        border-radius: 50%;\n",
              "        cursor: pointer;\n",
              "        display: none;\n",
              "        fill: #1967D2;\n",
              "        height: 32px;\n",
              "        padding: 0 0 0 0;\n",
              "        width: 32px;\n",
              "      }\n",
              "\n",
              "      .colab-df-generate:hover {\n",
              "        background-color: #E2EBFA;\n",
              "        box-shadow: 0px 1px 2px rgba(60, 64, 67, 0.3), 0px 1px 3px 1px rgba(60, 64, 67, 0.15);\n",
              "        fill: #174EA6;\n",
              "      }\n",
              "\n",
              "      [theme=dark] .colab-df-generate {\n",
              "        background-color: #3B4455;\n",
              "        fill: #D2E3FC;\n",
              "      }\n",
              "\n",
              "      [theme=dark] .colab-df-generate:hover {\n",
              "        background-color: #434B5C;\n",
              "        box-shadow: 0px 1px 3px 1px rgba(0, 0, 0, 0.15);\n",
              "        filter: drop-shadow(0px 1px 2px rgba(0, 0, 0, 0.3));\n",
              "        fill: #FFFFFF;\n",
              "      }\n",
              "    </style>\n",
              "    <button class=\"colab-df-generate\" onclick=\"generateWithVariable('df_albumes')\"\n",
              "            title=\"Generate code using this dataframe.\"\n",
              "            style=\"display:none;\">\n",
              "\n",
              "  <svg xmlns=\"http://www.w3.org/2000/svg\" height=\"24px\"viewBox=\"0 0 24 24\"\n",
              "       width=\"24px\">\n",
              "    <path d=\"M7,19H8.4L18.45,9,17,7.55,7,17.6ZM5,21V16.75L18.45,3.32a2,2,0,0,1,2.83,0l1.4,1.43a1.91,1.91,0,0,1,.58,1.4,1.91,1.91,0,0,1-.58,1.4L9.25,21ZM18.45,9,17,7.55Zm-12,3A5.31,5.31,0,0,0,4.9,8.1,5.31,5.31,0,0,0,1,6.5,5.31,5.31,0,0,0,4.9,4.9,5.31,5.31,0,0,0,6.5,1,5.31,5.31,0,0,0,8.1,4.9,5.31,5.31,0,0,0,12,6.5,5.46,5.46,0,0,0,6.5,12Z\"/>\n",
              "  </svg>\n",
              "    </button>\n",
              "    <script>\n",
              "      (() => {\n",
              "      const buttonEl =\n",
              "        document.querySelector('#id_5d714828-b018-4492-9496-5bf9846463ef button.colab-df-generate');\n",
              "      buttonEl.style.display =\n",
              "        google.colab.kernel.accessAllowed ? 'block' : 'none';\n",
              "\n",
              "      buttonEl.onclick = () => {\n",
              "        google.colab.notebook.generateWithVariable('df_albumes');\n",
              "      }\n",
              "      })();\n",
              "    </script>\n",
              "  </div>\n",
              "\n",
              "    </div>\n",
              "  </div>\n"
            ],
            "application/vnd.google.colaboratory.intrinsic+json": {
              "type": "dataframe",
              "variable_name": "df_albumes",
              "summary": "{\n  \"name\": \"df_albumes\",\n  \"rows\": 8,\n  \"fields\": [\n    {\n      \"column\": \"\\u00e1lbum\",\n      \"properties\": {\n        \"dtype\": \"string\",\n        \"num_unique_values\": 8,\n        \"samples\": [\n          \"D\\u00e9jame entrar\",\n          \"Por lo alto\",\n          \"Cielo de tambores\"\n        ],\n        \"semantic_type\": \"\",\n        \"description\": \"\"\n      }\n    },\n    {\n      \"column\": \"lanzamiento\",\n      \"properties\": {\n        \"dtype\": \"object\",\n        \"num_unique_values\": 7,\n        \"samples\": [\n          \"1990-12-20 00:00:00\",\n          \"2001-11-06 00:00:00\",\n          \"2018-05-25 00:00:00\"\n        ],\n        \"semantic_type\": \"\",\n        \"description\": \"\"\n      }\n    },\n    {\n      \"column\": \"sello\",\n      \"properties\": {\n        \"dtype\": \"string\",\n        \"num_unique_values\": 5,\n        \"samples\": [\n          \"EMI Latin\",\n          \"Sony Music\",\n          \"Internacional Records\"\n        ],\n        \"semantic_type\": \"\",\n        \"description\": \"\"\n      }\n    }\n  ]\n}"
            }
          },
          "metadata": {},
          "execution_count": 13
        }
      ]
    },
    {
      "cell_type": "code",
      "source": [
        "#Generamos un gráfico para conocer la distribución de los sellos discográficos\n",
        "frecuencias = df_albumes['sello'].value_counts()\n",
        "frecuencias.plot(kind = 'bar', color = 'purple');\n",
        "plt.grid(color = \"black\")"
      ],
      "metadata": {
        "colab": {
          "base_uri": "https://localhost:8080/",
          "height": 586
        },
        "id": "jkE6EQKZLvbK",
        "outputId": "b8fa9a50-adab-4829-94ee-4b9ccde3cf22"
      },
      "execution_count": null,
      "outputs": [
        {
          "output_type": "display_data",
          "data": {
            "text/plain": [
              "<Figure size 640x480 with 1 Axes>"
            ],
            "image/png": "[encoded data removed]"
          },
          "metadata": {}
        }
      ]
    },
    {
      "cell_type": "code",
      "source": [
        "#Cerramos conexión con la base de datos\n",
        "conexion.close()"
      ],
      "metadata": {
        "id": "P8qEU-0HNDIc"
      },
      "execution_count": null,
      "outputs": []
    },
    {
      "cell_type": "markdown",
      "source": [
        "# Mis Canciones V3"
      ],
      "metadata": {
        "id": "g0ywVNjPObFz"
      }
    },
    {
      "cell_type": "code",
      "source": [
        "#Creamos la conexión a la base de datos, si existe, en caso contrario se genera la base de datos\n",
        "conexion = sqlite3.connect('MisCancionesV3.db')\n",
        "cursor = conexion.cursor()"
      ],
      "metadata": {
        "id": "ndOXdC-fOhaa"
      },
      "execution_count": null,
      "outputs": []
    },
    {
      "cell_type": "code",
      "source": [
        "#Abrimos el archivo de SQL para ejecutar las consultas\n",
        "with open('/content/drive/MyDrive/Colab Notebooks/IB/Creación MisCanciones V3.sql', 'r') as archivo:\n",
        "  sql_script = archivo.read()\n",
        "\n",
        "#Ejecutamos las consultas\n",
        "cursor.executescript(sql_script)\n",
        "\n",
        "#Confirmamos los cambios\n",
        "conexion.commit()"
      ],
      "metadata": {
        "id": "BjEhpJuHQO5i"
      },
      "execution_count": null,
      "outputs": []
    },
    {
      "cell_type": "code",
      "source": [
        "#Visualizamos las tablas de la nueva base de datos\n",
        "consulta = '''SELECT name\n",
        "           FROM sqlite_master\n",
        "           WHERE type = 'table' '''\n",
        "\n",
        "#Ejecutamos la consulta\n",
        "cursor.execute(consulta)\n",
        "\n",
        "#Mostramos los resultados\n",
        "print(cursor.fetchall())"
      ],
      "metadata": {
        "colab": {
          "base_uri": "https://localhost:8080/"
        },
        "id": "1rz3OV1DQt8-",
        "outputId": "9a4eb1e1-bbe9-44d6-afbe-4730e4a8fcf6"
      },
      "execution_count": null,
      "outputs": [
        {
          "output_type": "stream",
          "name": "stdout",
          "text": [
            "[('Géneros',), ('Álbumes',), ('Usuarios',), ('Intérpretes',), ('Canciones',), ('Calificaciones',), ('Reproducciones',), ('ListasReproducción',), ('CancionesLista',)]\n"
          ]
        }
      ]
    },
    {
      "cell_type": "code",
      "source": [
        "#Nombre completo y fechas de registro de todos los usuarios\n",
        "consulta = '''SELECT nombres||' '||apellidos,\n",
        "           \"fechaRegistro\"\n",
        "           FROM Usuarios;'''\n",
        "\n",
        "#Ejecutamos la consulta\n",
        "cursor.execute(consulta)\n",
        "\n",
        "#Mostramos los resultados\n",
        "resultados = cursor.fetchall()\n",
        "for resultado in resultados:\n",
        "  print(resultado)"
      ],
      "metadata": {
        "colab": {
          "base_uri": "https://localhost:8080/"
        },
        "id": "z1TXasxVTP8t",
        "outputId": "7e2d1da6-3196-452d-9556-14912f67347d"
      },
      "execution_count": null,
      "outputs": [
        {
          "output_type": "stream",
          "name": "stdout",
          "text": [
            "('Alexander Buenahora', '01/01/2020')\n",
            "('Ernesto Gonzalez', '20/12/2019')\n",
            "('René Descartes', '13/07/2021')\n",
            "('Fatme Issa', '30/01/2021')\n",
            "('Baruch  Spinoza', '13/06/2020')\n",
            "('Marie Curie ', '12/05/2018')\n",
            "('Ana Frank', '24/02/2017')\n",
            "('Piedad Bonnett', '17/06/2020')\n",
            "('Jean-Jacques Rousseau', '12/09/2020')\n",
            "('Mario Bunge', '08/11/2020')\n"
          ]
        }
      ]
    },
    {
      "cell_type": "code",
      "source": [
        "#Cambio de formato para que las diversas funciones de SQLite que operan sobre las fechas pueda funcionar, vamos a cambiar el formato original de las columnas\n",
        "#de fecha en la tabla de usuarios (d/m/y -> y-m-d). Para ello usamos la función UPDATE\n",
        "\n",
        "consulta = '''UPDATE Usuarios\n",
        "           SET fechaRegistro = substr(\"fechaRegistro\", 7, 4) || '-' || substr(\"fechaRegistro\", 4, 2) || '-' || substr(\"fechaRegistro\", 1, 2)'''\n",
        "\n",
        "#Ejecutamos la consulta\n",
        "cursor.execute(consulta)\n",
        "\n",
        "#Confirmamos los cambios\n",
        "conexion.commit()"
      ],
      "metadata": {
        "id": "Tdc4a7mCYFPS"
      },
      "execution_count": null,
      "outputs": []
    },
    {
      "cell_type": "code",
      "source": [
        "#Revisamos\n",
        "cursor.execute('SELECT * FROM Usuarios;''')\n",
        "resultados = cursor.fetchall()\n",
        "for resultado in resultados:\n",
        "  print(resultado)"
      ],
      "metadata": {
        "colab": {
          "base_uri": "https://localhost:8080/"
        },
        "id": "n3jYdEUeZD9p",
        "outputId": "8c053d1b-0894-4caf-c735-44ef96e84e98"
      },
      "execution_count": null,
      "outputs": [
        {
          "output_type": "stream",
          "name": "stdout",
          "text": [
            "(1, 'alex@gmail.com', '81dc9bdb52d04dc20036dbd8313ed055', 'Alexander', 'Buenahora', 'M', '27/08/1988', 'Colombia', 'España', 'Español', '2020-01-01')\n",
            "(2, 'ernesto@hotmail.com', '81b073de9370ea873f548e31b8adc081', 'Ernesto', 'Gonzalez', 'M', '23/03/1980', 'Venezuela', 'Colombia', 'Español', '2019-12-20')\n",
            "(3, 'rene.metodo@gmail.com', 'def7924e3199be5e18060bb3e1d547a7', 'René', 'Descartes', 'F', '01/01/2000', 'Francia', 'Francia', 'Francés', '2021-07-13')\n",
            "(4, 'fatima@yahoo.com', '6562c5c1f33db6e05a082a88cddab5ea', 'Fatme', 'Issa', 'F', '11/07/1976', 'Ecuador', 'Ecuador', 'Español', '2021-01-30')\n",
            "(5, 'panteismo@gmail.com', '674f3c2c1a8a6f90461e8a66fb5550ba', 'Baruch ', 'Spinoza', 'M', '06/06/1970', 'Holanda', 'Portugal', 'Holandés', '2020-06-13')\n",
            "(6, 'marie.curie@gmail.com', '46d045ff5190f6ea93739da6c0aa19bc', 'Marie', 'Curie ', 'F', '06/09/1992', 'Francia', 'Venezuela', 'Francés', '2018-05-12')\n",
            "(7, 'ana.frank@hotmail.com', 'cdaeb1282d614772beb1e74c192bebda', 'Ana', 'Frank', 'F', '22/06/1998', 'Alemania', 'Alemania', 'Alemán', '2017-02-24')\n",
            "(8, 'piedad.bonnett@gmail.com', 'f4d87ed3b0dbf9c79746d00cedbb5e78', 'Piedad', 'Bonnett', 'F', '15/06/1951', 'Colombia', 'Colombia', 'Español', '2020-06-17')\n",
            "(9, 'elcontratosocial@yahoo.com', 'c5c53759e4dd1bfe8b3dcfec37d0ea72', 'Jean-Jacques', 'Rousseau', 'M', '08/08/1987', 'Suiza', 'Francia', 'Francés', '2020-09-12')\n",
            "(10, 'laciencia.bunge@hotmail.com', 'eb62f6b9306db575c2d596b1279627a4', 'Mario', 'Bunge', 'M', '21/09/1919', 'Argentina', 'Cánada', 'Español', '2020-11-08')\n"
          ]
        }
      ]
    },
    {
      "cell_type": "code",
      "source": [
        "#Realizamos la misma operación sobre la columna fechaNacimiento\n",
        "consulta = '''UPDATE Usuarios\n",
        "           SET fechaNacimiento = substr(\"fechaNacimiento\", 7, 4) || '-' || substr(\"fechaNacimiento\", 4, 2) || '-' || substr(\"fechaNacimiento\", 1, 2)'''\n",
        "\n",
        "#Ejecutamos la consulta\n",
        "cursor.execute(consulta)\n",
        "\n",
        "#Confirmamos los cambios\n",
        "conexion.commit()"
      ],
      "metadata": {
        "id": "QOChaaG9ZXRa"
      },
      "execution_count": null,
      "outputs": []
    },
    {
      "cell_type": "code",
      "source": [
        "#Revisamos\n",
        "cursor.execute('SELECT * FROM Usuarios;''')\n",
        "resultados = cursor.fetchall()\n",
        "for resultado in resultados:\n",
        "  print(resultado)"
      ],
      "metadata": {
        "colab": {
          "base_uri": "https://localhost:8080/"
        },
        "id": "goItLYwlcewZ",
        "outputId": "d2032e46-2da5-475f-8bd0-cfd209056878"
      },
      "execution_count": null,
      "outputs": [
        {
          "output_type": "stream",
          "name": "stdout",
          "text": [
            "(1, 'alex@gmail.com', '81dc9bdb52d04dc20036dbd8313ed055', 'Alexander', 'Buenahora', 'M', '1988-08-27', 'Colombia', 'España', 'Español', '2020-01-01')\n",
            "(2, 'ernesto@hotmail.com', '81b073de9370ea873f548e31b8adc081', 'Ernesto', 'Gonzalez', 'M', '1980-03-23', 'Venezuela', 'Colombia', 'Español', '2019-12-20')\n",
            "(3, 'rene.metodo@gmail.com', 'def7924e3199be5e18060bb3e1d547a7', 'René', 'Descartes', 'F', '2000-01-01', 'Francia', 'Francia', 'Francés', '2021-07-13')\n",
            "(4, 'fatima@yahoo.com', '6562c5c1f33db6e05a082a88cddab5ea', 'Fatme', 'Issa', 'F', '1976-07-11', 'Ecuador', 'Ecuador', 'Español', '2021-01-30')\n",
            "(5, 'panteismo@gmail.com', '674f3c2c1a8a6f90461e8a66fb5550ba', 'Baruch ', 'Spinoza', 'M', '1970-06-06', 'Holanda', 'Portugal', 'Holandés', '2020-06-13')\n",
            "(6, 'marie.curie@gmail.com', '46d045ff5190f6ea93739da6c0aa19bc', 'Marie', 'Curie ', 'F', '1992-09-06', 'Francia', 'Venezuela', 'Francés', '2018-05-12')\n",
            "(7, 'ana.frank@hotmail.com', 'cdaeb1282d614772beb1e74c192bebda', 'Ana', 'Frank', 'F', '1998-06-22', 'Alemania', 'Alemania', 'Alemán', '2017-02-24')\n",
            "(8, 'piedad.bonnett@gmail.com', 'f4d87ed3b0dbf9c79746d00cedbb5e78', 'Piedad', 'Bonnett', 'F', '1951-06-15', 'Colombia', 'Colombia', 'Español', '2020-06-17')\n",
            "(9, 'elcontratosocial@yahoo.com', 'c5c53759e4dd1bfe8b3dcfec37d0ea72', 'Jean-Jacques', 'Rousseau', 'M', '1987-08-08', 'Suiza', 'Francia', 'Francés', '2020-09-12')\n",
            "(10, 'laciencia.bunge@hotmail.com', 'eb62f6b9306db575c2d596b1279627a4', 'Mario', 'Bunge', 'M', '1919-09-21', 'Argentina', 'Cánada', 'Español', '2020-11-08')\n"
          ]
        }
      ]
    },
    {
      "cell_type": "code",
      "source": [
        "#¿Cuál es el e-mail, sexo, país de residencia,\n",
        "#edad actual y edad al momento de registrarse en la plataforma de Streaming?\n",
        "\n",
        "consulta = '''SELECT email,\n",
        "              sexo,\n",
        "              paísResidencia,\n",
        "              strftime('%Y', 'now') - strftime('%Y', fechaNacimiento) AS edadActual,\n",
        "              strftime('%Y', fechaRegistro) - strftime('%Y', fechaNacimiento) AS edadRegistro\n",
        "           FROM Usuarios;'''\n",
        "\n",
        "#Ejecutamos la consulta\n",
        "cursor.execute(consulta)\n",
        "\n",
        "#Mostramos los resultados\n",
        "resultados = cursor.fetchall()\n",
        "for resultado in resultados:\n",
        "  print(resultado)"
      ],
      "metadata": {
        "colab": {
          "base_uri": "https://localhost:8080/"
        },
        "id": "0WRG5ylUZ8It",
        "outputId": "7bfcfe31-3412-43be-8b90-bf9557faf4d4"
      },
      "execution_count": null,
      "outputs": [
        {
          "output_type": "stream",
          "name": "stdout",
          "text": [
            "('alex@gmail.com', 'M', 'España', 36, 32)\n",
            "('ernesto@hotmail.com', 'M', 'Colombia', 44, 39)\n",
            "('rene.metodo@gmail.com', 'F', 'Francia', 24, 21)\n",
            "('fatima@yahoo.com', 'F', 'Ecuador', 48, 45)\n",
            "('panteismo@gmail.com', 'M', 'Portugal', 54, 50)\n",
            "('marie.curie@gmail.com', 'F', 'Venezuela', 32, 26)\n",
            "('ana.frank@hotmail.com', 'F', 'Alemania', 26, 19)\n",
            "('piedad.bonnett@gmail.com', 'F', 'Colombia', 73, 69)\n",
            "('elcontratosocial@yahoo.com', 'M', 'Francia', 37, 33)\n",
            "('laciencia.bunge@hotmail.com', 'M', 'Cánada', 105, 101)\n"
          ]
        }
      ]
    },
    {
      "cell_type": "code",
      "source": [
        "#consultar las columnas de la tabla Usuarios\n",
        "consulta = '''PRAGMA table_info(Usuarios)'''\n",
        "\n",
        "#Ejecutamos la consulta\n",
        "cursor.execute(consulta)\n",
        "\n",
        "#Mostramos los resultados\n",
        "resultados = cursor.fetchall()\n",
        "for resultado in resultados:\n",
        "  print(resultado)"
      ],
      "metadata": {
        "colab": {
          "base_uri": "https://localhost:8080/"
        },
        "id": "z3v4QOW_OLLy",
        "outputId": "964b5fa5-1223-4bae-d3cf-6bba2fdd892f"
      },
      "execution_count": null,
      "outputs": [
        {
          "output_type": "stream",
          "name": "stdout",
          "text": [
            "(0, 'idUsuario', 'INT', 1, None, 1)\n",
            "(1, 'email', 'VARCHAR(254)', 1, None, 0)\n",
            "(2, 'contraseña', 'VARCHAR(128)', 1, None, 0)\n",
            "(3, 'nombres', 'VARCHAR(100)', 1, None, 0)\n",
            "(4, 'apellidos', 'VARCHAR(100)', 1, None, 0)\n",
            "(5, 'sexo', 'VARCHAR(30)', 1, None, 0)\n",
            "(6, 'fechaNacimiento', 'DATE', 1, None, 0)\n",
            "(7, 'paísNacimiento', 'VARCHAR(100)', 1, None, 0)\n",
            "(8, 'paísResidencia', 'VARCHAR(100)', 1, None, 0)\n",
            "(9, 'idioma', 'VARCHAR(30)', 1, None, 0)\n",
            "(10, 'fechaRegistro', 'DATE', 1, None, 0)\n"
          ]
        }
      ]
    },
    {
      "cell_type": "code",
      "source": [
        "#¿Cuál es el nombre completo, el email, y el nombre de dominio del servicio de email de los usuarios que están en el rango de edad entre 20 y 39 años?\n",
        "\n",
        "consulta = '''SELECT nombres||' '||apellidos AS nombreCompleto,\n",
        "              email,\n",
        "              substr(email, instr(email, '@') + 1) AS dominio,\n",
        "              strftime('%Y', 'now') - strftime('%Y', fechaNacimiento) AS edad\n",
        "           FROM Usuarios\n",
        "           WHERE edad BETWEEN 20 AND 39;'''\n",
        "\n",
        "#Ejecutamos la consulta\n",
        "cursor.execute(consulta)\n",
        "\n",
        "#Mostramos los resultados\n",
        "resultados = cursor.fetchall()\n",
        "for resultado in resultados:\n",
        "  print(resultado)"
      ],
      "metadata": {
        "colab": {
          "base_uri": "https://localhost:8080/"
        },
        "id": "pQQ8FrgfP7uh",
        "outputId": "033b09c5-2520-426b-b202-386a8dcaec8c"
      },
      "execution_count": null,
      "outputs": [
        {
          "output_type": "stream",
          "name": "stdout",
          "text": [
            "('Alexander Buenahora', 'alex@gmail.com', 'gmail.com', 36)\n",
            "('René Descartes', 'rene.metodo@gmail.com', 'gmail.com', 24)\n",
            "('Marie Curie ', 'marie.curie@gmail.com', 'gmail.com', 32)\n",
            "('Ana Frank', 'ana.frank@hotmail.com', 'hotmail.com', 26)\n",
            "('Jean-Jacques Rousseau', 'elcontratosocial@yahoo.com', 'yahoo.com', 37)\n"
          ]
        }
      ]
    },
    {
      "cell_type": "markdown",
      "source": [
        "##Funciones de Agregración\n",
        "\n",
        "Son aquellas que se usan para resumir los datos"
      ],
      "metadata": {
        "id": "LpViFbHnZycs"
      }
    },
    {
      "cell_type": "code",
      "source": [
        "#Cuántas canciones clasificadas en el género 4 se tienen almacenadas en la conexión\n",
        "consulta = '''SELECT COUNT(*)\n",
        "FROM Canciones\n",
        "WHERE IdGénero = 4'''\n",
        "\n",
        "#Ejecutamos la consulta\n",
        "cursor.execute(consulta)\n",
        "\n",
        "#Mostramos los resultados\n",
        "resultados = cursor.fetchall()\n",
        "for resultado in resultados:\n",
        "  print(resultado)"
      ],
      "metadata": {
        "colab": {
          "base_uri": "https://localhost:8080/"
        },
        "id": "W02D3kfjZ7nN",
        "outputId": "d74fc9b5-1b53-4a89-a129-abe80173ab42"
      },
      "execution_count": null,
      "outputs": [
        {
          "output_type": "stream",
          "name": "stdout",
          "text": [
            "(4,)\n"
          ]
        }
      ]
    },
    {
      "cell_type": "code",
      "source": [
        "#Cuántos álbumes tienen canciones almacenadas en la colección que estén clasificadas en el género 3 o en el género 6\n",
        "consulta = '''SELECT COUNT(*)\n",
        "FROM Canciones\n",
        "WHERE IdGénero IN (3, 6)'''\n",
        "\n",
        "#Ejecutamos la consulta\n",
        "cursor.execute(consulta)\n",
        "\n",
        "#Mostramos los resultados\n",
        "resultados = cursor.fetchall()\n",
        "for resultado in resultados:\n",
        "  print(resultado)"
      ],
      "metadata": {
        "colab": {
          "base_uri": "https://localhost:8080/"
        },
        "id": "TVYPrqw5a4FT",
        "outputId": "2b933f39-f1f2-4534-9671-e8feb5464b29"
      },
      "execution_count": null,
      "outputs": [
        {
          "output_type": "stream",
          "name": "stdout",
          "text": [
            "(6,)\n"
          ]
        }
      ]
    },
    {
      "cell_type": "code",
      "source": [
        "#Cuánto tiempo tomaría reproducir de forma continua todos las canciones del álbum con id 15?\n",
        "consulta = '''SELECT SUM(substr(duración, 1, 2)* 3600 + substr(duración, 4, 2)* 60 + substr(duración, 7,2))/3600,\n",
        "(SUM(substr(duración, 1, 2) *3600 + substr(duración, 4, 2) * 60\n",
        "+substr(duración, 7,2)) % 3600)/60,\n",
        "SUM(substr(duración, 1, 2)* 3600 + substr(duración, 4,2 )*60\n",
        "+ substr(duración,7, 2)) % 60 AS duraciónTotal\n",
        "FROM Canciones\n",
        "WHERE idÁlbumOriginal = 15'''\n",
        "\n",
        "#Ejecutamos la consulta\n",
        "cursor.execute(consulta)\n",
        "\n",
        "#Mostramos los resultados\n",
        "resultados = cursor.fetchall()\n",
        "for resultado in resultados:\n",
        "  print(resultado)"
      ],
      "metadata": {
        "colab": {
          "base_uri": "https://localhost:8080/"
        },
        "id": "xHF2zeFTbiWy",
        "outputId": "a94ccd19-62b9-400f-f842-0495b61a8fe6"
      },
      "execution_count": null,
      "outputs": [
        {
          "output_type": "stream",
          "name": "stdout",
          "text": [
            "(0, 6, 32)\n"
          ]
        }
      ]
    },
    {
      "cell_type": "code",
      "source": [
        "#Cerramos la conexión\n",
        "conexion.close()"
      ],
      "metadata": {
        "id": "YAXbqIPLdrbn"
      },
      "execution_count": null,
      "outputs": []
    }
  ]
}