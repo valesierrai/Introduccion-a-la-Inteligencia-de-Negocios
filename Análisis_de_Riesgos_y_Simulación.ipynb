{
  "nbformat": 4,
  "nbformat_minor": 0,
  "metadata": {
    "colab": {
      "provenance": [],
      "authorship_tag": "ABX9TyMlgnVeHzbuzumTjZt0nWtq",
      "include_colab_link": true
    },
    "kernelspec": {
      "name": "python3",
      "display_name": "Python 3"
    },
    "language_info": {
      "name": "python"
    }
  },
  "cells": [
    {
      "cell_type": "markdown",
      "metadata": {
        "id": "view-in-github",
        "colab_type": "text"
      },
      "source": [
        "<a href=\"https://colab.research.google.com/github/valesierrai/Introduccion-a-la-Inteligencia-de-Negocios/blob/main/An%C3%A1lisis_de_Riesgos_y_Simulaci%C3%B3n.ipynb\" target=\"_parent\"><img src=\"https://colab.research.google.com/assets/colab-badge.svg\" alt=\"Open In Colab\"/></a>"
      ]
    },
    {
      "cell_type": "markdown",
      "source": [
        "#Ejemplo\n",
        "Una empresa en el oeste de los Estados Unidos fabrica y distribuye bolsos de mujer a tiendas minoristas en todo el país. Para fabricar un bolso, la empresa por lo general incurre en un costo variable de $\\$40$ por bolso, pero los costos reales en el pasado han oscilado entre $35 y $46 por bolso. El costo fijo total suele ser de $\\$43,000$, pero puede variar entre $\\$31,000$ y $\\$52,000$. El precio minorista de cada bolso es de $\\$65$. Según una pequeña cantidad de datos de ventas disponibles, la demanda ha fluctuado entre 2500 y 5000 bolsos por trimestre, pero en la mayoría de los trimestres la demanda ha sido de unos 3500 bolsos. Realice un análisis de riesgo para evaluar la rentabilidad trimestral de la empresa.\n",
        "\n",
        "$$Ganancia = (precio\\_unitario - costo\\_variable)\\times Demanda - Costo\\_fijo$$"
      ],
      "metadata": {
        "id": "1SB-byDfZj8n"
      }
    },
    {
      "cell_type": "code",
      "source": [
        "def ganancia(p, cv, d, cf): #Definición de una función y los parámetros de entrada\n",
        "  g = (p - cv) * d - cf #Operación de la ganancia\n",
        "  return g #Salida de la función declarada"
      ],
      "metadata": {
        "id": "CtnRSMnhaflE"
      },
      "execution_count": null,
      "outputs": []
    },
    {
      "cell_type": "code",
      "source": [
        "#Definimos los escenarios\n",
        "pesimista = ganancia(65, 46, 2500, 52000)\n",
        "optimista = ganancia(65, 40, 3500, 43000)\n",
        "probable = ganancia(65, 35, 5000, 31000)"
      ],
      "metadata": {
        "id": "P1V1gJjNay_a"
      },
      "execution_count": null,
      "outputs": []
    },
    {
      "cell_type": "code",
      "source": [
        "import pandas as pd\n",
        "\n",
        "df = pd.DataFrame([pesimista, optimista, probable], columns = ['Ganancia'], index = ['Pesimista', 'Optimista', 'Probable'])\n",
        "df"
      ],
      "metadata": {
        "colab": {
          "base_uri": "https://localhost:8080/",
          "height": 143
        },
        "id": "yZteDTABbgzj",
        "outputId": "f28136ac-1b38-407e-b59a-51b36d6ac966"
      },
      "execution_count": null,
      "outputs": [
        {
          "output_type": "execute_result",
          "data": {
            "text/plain": [
              "           Ganancia\n",
              "Pesimista     -4500\n",
              "Optimista     44500\n",
              "Probable     119000"
            ],
            "text/html": [
              "\n",
              "  <div id=\"df-83cd3c85-f139-4303-a680-e6c44cda231f\" class=\"colab-df-container\">\n",
              "    <div>\n",
              "<style scoped>\n",
              "    .dataframe tbody tr th:only-of-type {\n",
              "        vertical-align: middle;\n",
              "    }\n",
              "\n",
              "    .dataframe tbody tr th {\n",
              "        vertical-align: top;\n",
              "    }\n",
              "\n",
              "    .dataframe thead th {\n",
              "        text-align: right;\n",
              "    }\n",
              "</style>\n",
              "<table border=\"1\" class=\"dataframe\">\n",
              "  <thead>\n",
              "    <tr style=\"text-align: right;\">\n",
              "      <th></th>\n",
              "      <th>Ganancia</th>\n",
              "    </tr>\n",
              "  </thead>\n",
              "  <tbody>\n",
              "    <tr>\n",
              "      <th>Pesimista</th>\n",
              "      <td>-4500</td>\n",
              "    </tr>\n",
              "    <tr>\n",
              "      <th>Optimista</th>\n",
              "      <td>44500</td>\n",
              "    </tr>\n",
              "    <tr>\n",
              "      <th>Probable</th>\n",
              "      <td>119000</td>\n",
              "    </tr>\n",
              "  </tbody>\n",
              "</table>\n",
              "</div>\n",
              "    <div class=\"colab-df-buttons\">\n",
              "\n",
              "  <div class=\"colab-df-container\">\n",
              "    <button class=\"colab-df-convert\" onclick=\"convertToInteractive('df-83cd3c85-f139-4303-a680-e6c44cda231f')\"\n",
              "            title=\"Convert this dataframe to an interactive table.\"\n",
              "            style=\"display:none;\">\n",
              "\n",
              "  <svg xmlns=\"http://www.w3.org/2000/svg\" height=\"24px\" viewBox=\"0 -960 960 960\">\n",
              "    <path d=\"M120-120v-720h720v720H120Zm60-500h600v-160H180v160Zm220 220h160v-160H400v160Zm0 220h160v-160H400v160ZM180-400h160v-160H180v160Zm440 0h160v-160H620v160ZM180-180h160v-160H180v160Zm440 0h160v-160H620v160Z\"/>\n",
              "  </svg>\n",
              "    </button>\n",
              "\n",
              "  <style>\n",
              "    .colab-df-container {\n",
              "      display:flex;\n",
              "      gap: 12px;\n",
              "    }\n",
              "\n",
              "    .colab-df-convert {\n",
              "      background-color: #E8F0FE;\n",
              "      border: none;\n",
              "      border-radius: 50%;\n",
              "      cursor: pointer;\n",
              "      display: none;\n",
              "      fill: #1967D2;\n",
              "      height: 32px;\n",
              "      padding: 0 0 0 0;\n",
              "      width: 32px;\n",
              "    }\n",
              "\n",
              "    .colab-df-convert:hover {\n",
              "      background-color: #E2EBFA;\n",
              "      box-shadow: 0px 1px 2px rgba(60, 64, 67, 0.3), 0px 1px 3px 1px rgba(60, 64, 67, 0.15);\n",
              "      fill: #174EA6;\n",
              "    }\n",
              "\n",
              "    .colab-df-buttons div {\n",
              "      margin-bottom: 4px;\n",
              "    }\n",
              "\n",
              "    [theme=dark] .colab-df-convert {\n",
              "      background-color: #3B4455;\n",
              "      fill: #D2E3FC;\n",
              "    }\n",
              "\n",
              "    [theme=dark] .colab-df-convert:hover {\n",
              "      background-color: #434B5C;\n",
              "      box-shadow: 0px 1px 3px 1px rgba(0, 0, 0, 0.15);\n",
              "      filter: drop-shadow(0px 1px 2px rgba(0, 0, 0, 0.3));\n",
              "      fill: #FFFFFF;\n",
              "    }\n",
              "  </style>\n",
              "\n",
              "    <script>\n",
              "      const buttonEl =\n",
              "        document.querySelector('#df-83cd3c85-f139-4303-a680-e6c44cda231f button.colab-df-convert');\n",
              "      buttonEl.style.display =\n",
              "        google.colab.kernel.accessAllowed ? 'block' : 'none';\n",
              "\n",
              "      async function convertToInteractive(key) {\n",
              "        const element = document.querySelector('#df-83cd3c85-f139-4303-a680-e6c44cda231f');\n",
              "        const dataTable =\n",
              "          await google.colab.kernel.invokeFunction('convertToInteractive',\n",
              "                                                    [key], {});\n",
              "        if (!dataTable) return;\n",
              "\n",
              "        const docLinkHtml = 'Like what you see? Visit the ' +\n",
              "          '<a target=\"_blank\" href=https://colab.research.google.com/notebooks/data_table.ipynb>data table notebook</a>'\n",
              "          + ' to learn more about interactive tables.';\n",
              "        element.innerHTML = '';\n",
              "        dataTable['output_type'] = 'display_data';\n",
              "        await google.colab.output.renderOutput(dataTable, element);\n",
              "        const docLink = document.createElement('div');\n",
              "        docLink.innerHTML = docLinkHtml;\n",
              "        element.appendChild(docLink);\n",
              "      }\n",
              "    </script>\n",
              "  </div>\n",
              "\n",
              "\n",
              "<div id=\"df-a2193827-91d7-4bcd-aa80-a9f72dc72b5e\">\n",
              "  <button class=\"colab-df-quickchart\" onclick=\"quickchart('df-a2193827-91d7-4bcd-aa80-a9f72dc72b5e')\"\n",
              "            title=\"Suggest charts\"\n",
              "            style=\"display:none;\">\n",
              "\n",
              "<svg xmlns=\"http://www.w3.org/2000/svg\" height=\"24px\"viewBox=\"0 0 24 24\"\n",
              "     width=\"24px\">\n",
              "    <g>\n",
              "        <path d=\"M19 3H5c-1.1 0-2 .9-2 2v14c0 1.1.9 2 2 2h14c1.1 0 2-.9 2-2V5c0-1.1-.9-2-2-2zM9 17H7v-7h2v7zm4 0h-2V7h2v10zm4 0h-2v-4h2v4z\"/>\n",
              "    </g>\n",
              "</svg>\n",
              "  </button>\n",
              "\n",
              "<style>\n",
              "  .colab-df-quickchart {\n",
              "      --bg-color: #E8F0FE;\n",
              "      --fill-color: #1967D2;\n",
              "      --hover-bg-color: #E2EBFA;\n",
              "      --hover-fill-color: #174EA6;\n",
              "      --disabled-fill-color: #AAA;\n",
              "      --disabled-bg-color: #DDD;\n",
              "  }\n",
              "\n",
              "  [theme=dark] .colab-df-quickchart {\n",
              "      --bg-color: #3B4455;\n",
              "      --fill-color: #D2E3FC;\n",
              "      --hover-bg-color: #434B5C;\n",
              "      --hover-fill-color: #FFFFFF;\n",
              "      --disabled-bg-color: #3B4455;\n",
              "      --disabled-fill-color: #666;\n",
              "  }\n",
              "\n",
              "  .colab-df-quickchart {\n",
              "    background-color: var(--bg-color);\n",
              "    border: none;\n",
              "    border-radius: 50%;\n",
              "    cursor: pointer;\n",
              "    display: none;\n",
              "    fill: var(--fill-color);\n",
              "    height: 32px;\n",
              "    padding: 0;\n",
              "    width: 32px;\n",
              "  }\n",
              "\n",
              "  .colab-df-quickchart:hover {\n",
              "    background-color: var(--hover-bg-color);\n",
              "    box-shadow: 0 1px 2px rgba(60, 64, 67, 0.3), 0 1px 3px 1px rgba(60, 64, 67, 0.15);\n",
              "    fill: var(--button-hover-fill-color);\n",
              "  }\n",
              "\n",
              "  .colab-df-quickchart-complete:disabled,\n",
              "  .colab-df-quickchart-complete:disabled:hover {\n",
              "    background-color: var(--disabled-bg-color);\n",
              "    fill: var(--disabled-fill-color);\n",
              "    box-shadow: none;\n",
              "  }\n",
              "\n",
              "  .colab-df-spinner {\n",
              "    border: 2px solid var(--fill-color);\n",
              "    border-color: transparent;\n",
              "    border-bottom-color: var(--fill-color);\n",
              "    animation:\n",
              "      spin 1s steps(1) infinite;\n",
              "  }\n",
              "\n",
              "  @keyframes spin {\n",
              "    0% {\n",
              "      border-color: transparent;\n",
              "      border-bottom-color: var(--fill-color);\n",
              "      border-left-color: var(--fill-color);\n",
              "    }\n",
              "    20% {\n",
              "      border-color: transparent;\n",
              "      border-left-color: var(--fill-color);\n",
              "      border-top-color: var(--fill-color);\n",
              "    }\n",
              "    30% {\n",
              "      border-color: transparent;\n",
              "      border-left-color: var(--fill-color);\n",
              "      border-top-color: var(--fill-color);\n",
              "      border-right-color: var(--fill-color);\n",
              "    }\n",
              "    40% {\n",
              "      border-color: transparent;\n",
              "      border-right-color: var(--fill-color);\n",
              "      border-top-color: var(--fill-color);\n",
              "    }\n",
              "    60% {\n",
              "      border-color: transparent;\n",
              "      border-right-color: var(--fill-color);\n",
              "    }\n",
              "    80% {\n",
              "      border-color: transparent;\n",
              "      border-right-color: var(--fill-color);\n",
              "      border-bottom-color: var(--fill-color);\n",
              "    }\n",
              "    90% {\n",
              "      border-color: transparent;\n",
              "      border-bottom-color: var(--fill-color);\n",
              "    }\n",
              "  }\n",
              "</style>\n",
              "\n",
              "  <script>\n",
              "    async function quickchart(key) {\n",
              "      const quickchartButtonEl =\n",
              "        document.querySelector('#' + key + ' button');\n",
              "      quickchartButtonEl.disabled = true;  // To prevent multiple clicks.\n",
              "      quickchartButtonEl.classList.add('colab-df-spinner');\n",
              "      try {\n",
              "        const charts = await google.colab.kernel.invokeFunction(\n",
              "            'suggestCharts', [key], {});\n",
              "      } catch (error) {\n",
              "        console.error('Error during call to suggestCharts:', error);\n",
              "      }\n",
              "      quickchartButtonEl.classList.remove('colab-df-spinner');\n",
              "      quickchartButtonEl.classList.add('colab-df-quickchart-complete');\n",
              "    }\n",
              "    (() => {\n",
              "      let quickchartButtonEl =\n",
              "        document.querySelector('#df-a2193827-91d7-4bcd-aa80-a9f72dc72b5e button');\n",
              "      quickchartButtonEl.style.display =\n",
              "        google.colab.kernel.accessAllowed ? 'block' : 'none';\n",
              "    })();\n",
              "  </script>\n",
              "</div>\n",
              "\n",
              "  <div id=\"id_0dcc5b0e-b6da-4064-bc6d-1487d847cd7f\">\n",
              "    <style>\n",
              "      .colab-df-generate {\n",
              "        background-color: #E8F0FE;\n",
              "        border: none;\n",
              "        border-radius: 50%;\n",
              "        cursor: pointer;\n",
              "        display: none;\n",
              "        fill: #1967D2;\n",
              "        height: 32px;\n",
              "        padding: 0 0 0 0;\n",
              "        width: 32px;\n",
              "      }\n",
              "\n",
              "      .colab-df-generate:hover {\n",
              "        background-color: #E2EBFA;\n",
              "        box-shadow: 0px 1px 2px rgba(60, 64, 67, 0.3), 0px 1px 3px 1px rgba(60, 64, 67, 0.15);\n",
              "        fill: #174EA6;\n",
              "      }\n",
              "\n",
              "      [theme=dark] .colab-df-generate {\n",
              "        background-color: #3B4455;\n",
              "        fill: #D2E3FC;\n",
              "      }\n",
              "\n",
              "      [theme=dark] .colab-df-generate:hover {\n",
              "        background-color: #434B5C;\n",
              "        box-shadow: 0px 1px 3px 1px rgba(0, 0, 0, 0.15);\n",
              "        filter: drop-shadow(0px 1px 2px rgba(0, 0, 0, 0.3));\n",
              "        fill: #FFFFFF;\n",
              "      }\n",
              "    </style>\n",
              "    <button class=\"colab-df-generate\" onclick=\"generateWithVariable('df')\"\n",
              "            title=\"Generate code using this dataframe.\"\n",
              "            style=\"display:none;\">\n",
              "\n",
              "  <svg xmlns=\"http://www.w3.org/2000/svg\" height=\"24px\"viewBox=\"0 0 24 24\"\n",
              "       width=\"24px\">\n",
              "    <path d=\"M7,19H8.4L18.45,9,17,7.55,7,17.6ZM5,21V16.75L18.45,3.32a2,2,0,0,1,2.83,0l1.4,1.43a1.91,1.91,0,0,1,.58,1.4,1.91,1.91,0,0,1-.58,1.4L9.25,21ZM18.45,9,17,7.55Zm-12,3A5.31,5.31,0,0,0,4.9,8.1,5.31,5.31,0,0,0,1,6.5,5.31,5.31,0,0,0,4.9,4.9,5.31,5.31,0,0,0,6.5,1,5.31,5.31,0,0,0,8.1,4.9,5.31,5.31,0,0,0,12,6.5,5.46,5.46,0,0,0,6.5,12Z\"/>\n",
              "  </svg>\n",
              "    </button>\n",
              "    <script>\n",
              "      (() => {\n",
              "      const buttonEl =\n",
              "        document.querySelector('#id_0dcc5b0e-b6da-4064-bc6d-1487d847cd7f button.colab-df-generate');\n",
              "      buttonEl.style.display =\n",
              "        google.colab.kernel.accessAllowed ? 'block' : 'none';\n",
              "\n",
              "      buttonEl.onclick = () => {\n",
              "        google.colab.notebook.generateWithVariable('df');\n",
              "      }\n",
              "      })();\n",
              "    </script>\n",
              "  </div>\n",
              "\n",
              "    </div>\n",
              "  </div>\n"
            ],
            "application/vnd.google.colaboratory.intrinsic+json": {
              "type": "dataframe",
              "variable_name": "df",
              "summary": "{\n  \"name\": \"df\",\n  \"rows\": 3,\n  \"fields\": [\n    {\n      \"column\": \"Ganancia\",\n      \"properties\": {\n        \"dtype\": \"number\",\n        \"std\": 62187,\n        \"min\": -4500,\n        \"max\": 119000,\n        \"num_unique_values\": 3,\n        \"samples\": [\n          -4500,\n          44500,\n          119000\n        ],\n        \"semantic_type\": \"\",\n        \"description\": \"\"\n      }\n    }\n  ]\n}"
            }
          },
          "metadata": {},
          "execution_count": 9
        }
      ]
    },
    {
      "cell_type": "markdown",
      "source": [
        "#Ejemplo\n",
        "Una empresa estima que el 30% de sus clientes reaccionarían positivamente a sus nuevas funciones web. Aquí, demostramos cómo generar observaciones aleatorias que representen la cantidad de clientes que reaccionen positivamente a las nuevas funciones web de la empresa en un grupo de 10 clientes seleccionados al azar. Simule observaciones aleatorias basadas en 100 grupos de 10 clientes."
      ],
      "metadata": {
        "id": "-hl5Z9EucMJ3"
      }
    },
    {
      "cell_type": "markdown",
      "source": [
        "Para este caso se trabaja con una distribución binomial, debudo a que es un proceso de Bernoulli, esto es:\n",
        "\n",
        "$$n = 10$$\n",
        "\n",
        "$$p= 0.3$$\n",
        "\n",
        "$$\\bar{X} = np$$\n",
        "\n",
        "$$s= \\sqrt{np(1-np)}$$"
      ],
      "metadata": {
        "id": "yG_bTMZJk3_b"
      }
    },
    {
      "cell_type": "code",
      "source": [
        "#Cargamos las librerias necesarias\n",
        "import numpy as np\n",
        "\n",
        "np.random.seed(1) #Inicializamos la semilla para la generación pseudoaleatoria\n",
        "salida = np.random.binomial(n= 10, p=0.3, size=100) #Generamos las observaciones aleatorias. n= el número de trials, p= la probabilidad de exito, y size= la cantidad de observaciones a generar\n",
        "print(f\"Promedio: {np.mean(salida)}\")\n",
        "print(f\"Desviación Estándar: {np.std(salida)}\")"
      ],
      "metadata": {
        "colab": {
          "base_uri": "https://localhost:8080/"
        },
        "id": "GabelzGpjQEH",
        "outputId": "31b2a23f-5283-43d8-e02e-b5128676f206"
      },
      "execution_count": null,
      "outputs": [
        {
          "output_type": "stream",
          "name": "stdout",
          "text": [
            "Promedio: 2.93\n",
            "Desviación Estándar: 1.5050249167372611\n"
          ]
        }
      ]
    },
    {
      "cell_type": "markdown",
      "source": [
        "#Ejemplo\n",
        "\n",
        "Un proveedor de suministros médicos examina la demanda semanal de ventiladores respiratorios en los hospitales para los últimas 90 semanas.\n",
        "\n",
        "|Demanda de Ventiladores |Frecuencia|\n",
        "|---|---|\n",
        "|100|20|\n",
        "|200|25|\n",
        "|300|35|\n",
        "|400|10|\n",
        "\n",
        "Construya 100 demandas semanales de ventiladores con base en la distribución de probabilidad empírica."
      ],
      "metadata": {
        "id": "NEZnEkXcp6KR"
      }
    },
    {
      "cell_type": "code",
      "source": [
        "# Establecemos los datos de entrada\n",
        "\n",
        "unidades = np.array([100, 200, 300, 400])\n",
        "semanas = np.array([20, 25, 35, 10])"
      ],
      "metadata": {
        "id": "fw7hoP7Nb-6f"
      },
      "execution_count": null,
      "outputs": []
    },
    {
      "cell_type": "code",
      "source": [
        "#Calculamos la Frecuencia Relativa\n",
        "frecuencia_relativa = semanas / np.sum(semanas)\n",
        "#Visualizamos\n",
        "print(frecuencia_relativa)"
      ],
      "metadata": {
        "colab": {
          "base_uri": "https://localhost:8080/"
        },
        "id": "WjZJGqcnq9ay",
        "outputId": "e49fb5a9-a780-4cd3-af7d-55dd5ccba970"
      },
      "execution_count": null,
      "outputs": [
        {
          "output_type": "stream",
          "name": "stdout",
          "text": [
            "[0.22222222 0.27777778 0.38888889 0.11111111]\n"
          ]
        }
      ]
    },
    {
      "cell_type": "code",
      "source": [
        "#Calculamos la probabilidad acumulativa\n",
        "probabilidad_acumulativa = np.cumsum(frecuencia_relativa)\n",
        "#Visualizamos\n",
        "print(probabilidad_acumulativa)"
      ],
      "metadata": {
        "colab": {
          "base_uri": "https://localhost:8080/"
        },
        "id": "1KpKonCmrJQO",
        "outputId": "2478357c-56e0-446b-befa-c25a7366f9be"
      },
      "execution_count": null,
      "outputs": [
        {
          "output_type": "stream",
          "name": "stdout",
          "text": [
            "[0.22222222 0.5        0.88888889 1.        ]\n"
          ]
        }
      ]
    },
    {
      "cell_type": "code",
      "source": [
        "#Fijamos la semilla\n",
        "np.random.seed(1)\n",
        "\n",
        "#Generamos los números aleatorios con distribución uniforme\n",
        "aleatorios = np.random.uniform(low=0, high=1, size=100)"
      ],
      "metadata": {
        "id": "qgFtsMXcrTG0"
      },
      "execution_count": null,
      "outputs": []
    },
    {
      "cell_type": "code",
      "source": [
        "#A la probabilidad acumulada le agregramos un 0 al inicio para poder generar los intervalos de la distribución empírica\n",
        "probabilidad_acumulativa_bins= np.insert(probabilidad_acumulativa, 0, 0)\n",
        "\n",
        "#Visualizamos\n",
        "print(probabilidad_acumulativa_bins)"
      ],
      "metadata": {
        "colab": {
          "base_uri": "https://localhost:8080/"
        },
        "id": "37RCXIPprsep",
        "outputId": "80df1016-e5ab-4ca0-95e5-34a8eb54d707"
      },
      "execution_count": null,
      "outputs": [
        {
          "output_type": "stream",
          "name": "stdout",
          "text": [
            "[0.         0.22222222 0.5        0.88888889 1.        ]\n"
          ]
        }
      ]
    },
    {
      "cell_type": "code",
      "source": [
        "#Calculamos la demanda de ventiladores para la distribución empírica\n",
        "demanda = pd.cut(aleatorios, bins=probabilidad_acumulativa_bins, labels=unidades)"
      ],
      "metadata": {
        "id": "OAmiUkAPr8ra"
      },
      "execution_count": null,
      "outputs": []
    },
    {
      "cell_type": "code",
      "source": [
        "#Calculamos el promedio y la desviación estandar como medidas de resumen de la demanda\n",
        "print(f\"Promedio: {np.mean(demanda)}\")\n",
        "print(f\"Desviación Estándar: {np.std(demanda, ddof = 1)}\")"
      ],
      "metadata": {
        "colab": {
          "base_uri": "https://localhost:8080/"
        },
        "id": "QTIpBj7isLhg",
        "outputId": "8c4c1922-1c22-4201-b1c5-e1e9c40f4c5b"
      },
      "execution_count": null,
      "outputs": [
        {
          "output_type": "stream",
          "name": "stdout",
          "text": [
            "Promedio: 235.0\n",
            "Desviación Estándar: 99.87365756167877\n"
          ]
        }
      ]
    },
    {
      "cell_type": "markdown",
      "source": [
        "#Ejemplo\n",
        "\n",
        "Un fabricante de bolsos determina que su peor, mejor y más probable ganancia (o pérdida) es de −$\\$4,500$, $\\$119,000$ y $\\$44,500$, respectivamente.\n",
        "\n",
        "Debido a que no tenemos datos históricos detallados o información adicional para hacer suposiciones sobre cualquier distribución teórica, usamos una distribución de probabilidad triangular para evaluar la incertidumbre de la ganancia del fabricante.\n",
        "\n",
        "Genere 100 observaciones aleatorias basadas en una distribución de probabilidad triangular."
      ],
      "metadata": {
        "id": "Zfbn2HwUycVT"
      }
    },
    {
      "cell_type": "code",
      "source": [
        "#Planteamos los tres casos\n",
        "Peor = -4500\n",
        "Mejor = 119000\n",
        "mas_probable = 44500\n",
        "\n",
        "#calculamos el umbral\n",
        "umbral = (mas_probable - Peor) / (Mejor - Peor)\n",
        "umbral"
      ],
      "metadata": {
        "colab": {
          "base_uri": "https://localhost:8080/"
        },
        "id": "80nLHUxisTFE",
        "outputId": "50fd47dd-7c01-433d-86fc-b7720f5a4efa"
      },
      "execution_count": null,
      "outputs": [
        {
          "output_type": "execute_result",
          "data": {
            "text/plain": [
              "0.3967611336032389"
            ]
          },
          "metadata": {},
          "execution_count": 26
        }
      ]
    },
    {
      "cell_type": "code",
      "source": [
        "#Generamos el aleatorio x\n",
        "np.random.seed(1)\n",
        "x = np.random.uniform(low = 0, high = 1, size = 100)\n",
        "#Calculamos la ganancia para los dos casos de la distribuccion triangular\n",
        "ganancia_inferior = Peor + np.sqrt((Mejor - Peor)*(mas_probable - Peor)*x)\n",
        "ganancia_superior = Mejor - np.sqrt((Mejor-Peor)*(mas_probable - Peor)*(1-x))"
      ],
      "metadata": {
        "id": "4nco0w06zMpA"
      },
      "execution_count": null,
      "outputs": []
    },
    {
      "cell_type": "code",
      "source": [
        "#Calculamos la ganancia\n",
        "ganancia = np.where(x < umbral, ganancia_inferior, ganancia_superior)\n",
        "#Calculamos las medidas de resumen\n",
        "print(f\"Promedio: {np.mean(ganancia)}\")\n",
        "print(f\"Desviación estándar: {np.std(ganancia, ddof = 1)}\")"
      ],
      "metadata": {
        "colab": {
          "base_uri": "https://localhost:8080/"
        },
        "id": "FAoXjvTYzzDh",
        "outputId": "c59cd105-1a08-40ef-997d-f60379b2c852"
      },
      "execution_count": null,
      "outputs": [
        {
          "output_type": "stream",
          "name": "stdout",
          "text": [
            "Promedio: 109113.15299546938\n",
            "Desviación Estándar: 67444.94338696064\n"
          ]
        }
      ]
    },
    {
      "cell_type": "code",
      "source": [],
      "metadata": {
        "id": "GjM4GSgj0Gx0"
      },
      "execution_count": null,
      "outputs": []
    }
  ]
}