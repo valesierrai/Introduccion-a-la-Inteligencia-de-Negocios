{
  "nbformat": 4,
  "nbformat_minor": 0,
  "metadata": {
    "colab": {
      "provenance": [],
      "authorship_tag": "ABX9TyMXH05jfig3w3oS7k93PL+c",
      "include_colab_link": true
    },
    "kernelspec": {
      "name": "python3",
      "display_name": "Python 3"
    },
    "language_info": {
      "name": "python"
    }
  },
  "cells": [
    {
      "cell_type": "markdown",
      "metadata": {
        "id": "view-in-github",
        "colab_type": "text"
      },
      "source": [
        "<a href=\"https://colab.research.google.com/github/valesierrai/Introduccion-a-la-Inteligencia-de-Negocios/blob/main/Agrupamiento.ipynb\" target=\"_parent\"><img src=\"https://colab.research.google.com/assets/colab-badge.svg\" alt=\"Open In Colab\"/></a>"
      ]
    },
    {
      "cell_type": "markdown",
      "source": [
        "# Agrupamiento\n",
        "\n",
        "Permite sintetizar la información por grupos, esta información está en el formato de las funciones de agregación."
      ],
      "metadata": {
        "id": "v1qdHs4bgNxv"
      }
    },
    {
      "cell_type": "markdown",
      "source": [
        "##Importamos Librerias"
      ],
      "metadata": {
        "id": "jf1sgA0egZiL"
      }
    },
    {
      "cell_type": "code",
      "execution_count": null,
      "metadata": {
        "colab": {
          "base_uri": "https://localhost:8080/"
        },
        "id": "zIa1ktRNgFjI",
        "outputId": "8f91d8b6-2321-43f1-8933-dbb90fff0534"
      },
      "outputs": [
        {
          "output_type": "stream",
          "name": "stdout",
          "text": [
            "Mounted at /content/drive\n"
          ]
        }
      ],
      "source": [
        "from google.colab import drive\n",
        "drive.mount('/content/drive')\n",
        "import pandas as pd\n",
        "import sqlite3"
      ]
    },
    {
      "cell_type": "code",
      "source": [
        "#Creamos la conexión con la base de datos ya existente\n",
        "conexion = sqlite3.connect('/content/drive/MyDrive/Colab Notebooks/IB/MisCancionesV3.db')\n",
        "\n",
        "#Generamos el cursor (apuntador) a la base de datos\n",
        "cursor = conexion.cursor()"
      ],
      "metadata": {
        "id": "PokjQDlGghDU"
      },
      "execution_count": null,
      "outputs": []
    },
    {
      "cell_type": "code",
      "source": [
        "#¿Cuántos intérpretes hay por cada tipo?\n",
        "consulta = '''SELECT tipoIntérprete,\n",
        "            COUNT (*) AS cantidad\n",
        "            FROM Intérpretes\n",
        "            GROUP BY tipoIntérprete'''\n",
        "\n",
        "#Ejecutamos la consulta\n",
        "cursor.execute(consulta)\n",
        "\n",
        "#Mostramos los resultados\n",
        "resultados = cursor.fetchall()\n",
        "for resultado in resultados:\n",
        "  print(resultado)"
      ],
      "metadata": {
        "colab": {
          "base_uri": "https://localhost:8080/"
        },
        "id": "rY-lJzKdhm8I",
        "outputId": "00b9a120-5742-4a9d-963e-7a91bd2497cc"
      },
      "execution_count": null,
      "outputs": [
        {
          "output_type": "stream",
          "name": "stdout",
          "text": [
            "('Grupo', 5)\n",
            "('Solista', 5)\n"
          ]
        }
      ]
    },
    {
      "cell_type": "code",
      "source": [
        "#¿Cuál es la duración total de cada Álbum?\n",
        "#Los resultados deben presentarse en orden de mayor a menor\n",
        "\n",
        "consulta = '''SELECT idÁlbumOriginal AS Álbum,\n",
        "            printf('%02d:%02d:%02d',\n",
        "            SUM(substr(duración, 1, 2)* 3600 + substr(duración, 4, 2)* 60 + substr(duración, 7,2))/3600,\n",
        "            (SUM(substr(duración, 1, 2) *3600 + substr(duración, 4, 2) * 60\n",
        "            +substr(duración, 7,2)) % 3600)/60,\n",
        "            SUM(substr(duración, 1, 2)* 3600 + substr(duración, 4,2 )*60\n",
        "            + substr(duración,7, 2)) % 60) AS duraciónTotal\n",
        "            FROM Canciones\n",
        "            GROUP BY idÁlbumOriginal\n",
        "            ORDER BY duraciónTotal DESC'''\n",
        "\n",
        "#Ejecutamos la consulta\n",
        "cursor.execute(consulta)\n",
        "\n",
        "#Mostramos los resultados\n",
        "resultados = cursor.fetchall()\n",
        "for resultado in resultados:\n",
        "  print(resultado)"
      ],
      "metadata": {
        "colab": {
          "base_uri": "https://localhost:8080/"
        },
        "id": "KBGlIK1hjRMb",
        "outputId": "a431ffa3-c294-4ea6-e916-77b604473c28"
      },
      "execution_count": null,
      "outputs": [
        {
          "output_type": "stream",
          "name": "stdout",
          "text": [
            "(15, '00:06:32')\n",
            "(4, '00:05:54')\n",
            "(16, '00:05:37')\n",
            "(3, '00:05:16')\n",
            "(18, '00:05:04')\n",
            "(10, '00:04:58')\n",
            "(9, '00:04:49')\n",
            "(1, '00:04:25')\n",
            "(12, '00:04:21')\n",
            "(8, '00:04:09')\n",
            "(6, '00:03:55')\n",
            "(11, '00:03:51')\n",
            "(2, '00:03:47')\n",
            "(7, '00:03:45')\n",
            "(5, '00:03:38')\n",
            "(None, '00:03:14')\n",
            "(13, '00:03:09')\n",
            "(17, '00:03:02')\n",
            "(14, '00:02:51')\n"
          ]
        }
      ]
    },
    {
      "cell_type": "markdown",
      "source": [
        "*WHERE: Filtra por filas antes*\n",
        "\n",
        "*HAVING: Filtra después de agrupar*"
      ],
      "metadata": {
        "id": "dlFlYJkjmwc0"
      }
    },
    {
      "cell_type": "code",
      "source": [
        "#¿Cuántas canciones conforman cada una de las listas de reproducción de los usuarios?\n",
        "#Muestre solo aquellas que tengan más de 10 canciones\n",
        "#Con resultados ordenados en la lista con mayor número de canciones a la lista con menor número de canciones\n",
        "\n",
        "consulta = '''SELECT idListaReproducción AS Lista,\n",
        "             COUNT(idCanción) AS [Cantidad de Canciones]\n",
        "             FROM CancionesLista\n",
        "             GROUP BY idListaReproducción\n",
        "             HAVING COUNT(idCanción) > 10\n",
        "             ORDER BY [Cantidad de Canciones] DESC'''\n",
        "\n",
        "#Ejecutamos la consulta\n",
        "cursor.execute(consulta)\n",
        "\n",
        "#Mostramos los resultados\n",
        "resultados = cursor.fetchall()\n",
        "for resultado in resultados:\n",
        "  print(resultado)"
      ],
      "metadata": {
        "colab": {
          "base_uri": "https://localhost:8080/"
        },
        "id": "ThMRTrrGm9Qr",
        "outputId": "5cdf1d48-ee26-4879-bf5e-719e8cbf53f2"
      },
      "execution_count": null,
      "outputs": [
        {
          "output_type": "stream",
          "name": "stdout",
          "text": [
            "(7, 14)\n",
            "(10, 12)\n",
            "(4, 11)\n",
            "(16, 11)\n",
            "(17, 11)\n"
          ]
        }
      ]
    },
    {
      "cell_type": "code",
      "source": [
        "#¿Cuántos comentarios positivos tiene cada una de las canciones de la colección?\n",
        "#Mostrar aquellas canciones que tienen más de 5 comentarios positivos\n",
        "consulta = '''SELECT idCanción AS Canción,\n",
        "            COUNT(*) AS [Cantidad de Comentarios Positivos]\n",
        "            FROM Calificaciones\n",
        "            WHERE (LOWER(comentario) LIKE '%buena%') OR\n",
        "            (LOWER(comentario) LIKE '%excelente%')\n",
        "            GROUP BY idCanción\n",
        "            /*HAVING COUNT(*) > 5*/''' #comentario\n",
        "\n",
        "#Ejecutamos la consulta\n",
        "cursor.execute(consulta)\n",
        "\n",
        "#Mostramos los resultados\n",
        "resultados = cursor.fetchall()\n",
        "for resultado in resultados:\n",
        "  print(resultado)"
      ],
      "metadata": {
        "colab": {
          "base_uri": "https://localhost:8080/"
        },
        "id": "mMuWC7vnqY9U",
        "outputId": "890c8dc2-9110-4b35-d205-dc13161bac08"
      },
      "execution_count": null,
      "outputs": [
        {
          "output_type": "stream",
          "name": "stdout",
          "text": [
            "(4, 1)\n",
            "(15, 1)\n"
          ]
        }
      ]
    }
  ]
}