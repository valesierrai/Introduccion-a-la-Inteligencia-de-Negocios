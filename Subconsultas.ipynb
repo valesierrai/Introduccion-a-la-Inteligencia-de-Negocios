{
  "nbformat": 4,
  "nbformat_minor": 0,
  "metadata": {
    "colab": {
      "provenance": [],
      "authorship_tag": "ABX9TyNiKT8u4DplDR3VdfUoz8AO",
      "include_colab_link": true
    },
    "kernelspec": {
      "name": "python3",
      "display_name": "Python 3"
    },
    "language_info": {
      "name": "python"
    }
  },
  "cells": [
    {
      "cell_type": "markdown",
      "metadata": {
        "id": "view-in-github",
        "colab_type": "text"
      },
      "source": [
        "<a href=\"https://colab.research.google.com/github/valesierrai/Introduccion-a-la-Inteligencia-de-Negocios/blob/main/Subconsultas.ipynb\" target=\"_parent\"><img src=\"https://colab.research.google.com/assets/colab-badge.svg\" alt=\"Open In Colab\"/></a>"
      ]
    },
    {
      "cell_type": "markdown",
      "source": [
        "#Subconsultas"
      ],
      "metadata": {
        "id": "LnJiCnMMTmae"
      }
    },
    {
      "cell_type": "markdown",
      "source": [
        "##0. Importamos Librerias"
      ],
      "metadata": {
        "id": "ieAdblloUmMd"
      }
    },
    {
      "cell_type": "code",
      "source": [
        "import pandas as pd\n",
        "import sqlite3"
      ],
      "metadata": {
        "id": "aKi0casdUb4w"
      },
      "execution_count": null,
      "outputs": []
    },
    {
      "cell_type": "code",
      "execution_count": null,
      "metadata": {
        "colab": {
          "base_uri": "https://localhost:8080/"
        },
        "id": "KBdh-RB5Tl5u",
        "outputId": "7821b2bb-5490-49ac-b198-231f7f440266"
      },
      "outputs": [
        {
          "output_type": "stream",
          "name": "stdout",
          "text": [
            "Mounted at /content/drive\n"
          ]
        }
      ],
      "source": [
        "from google.colab import drive\n",
        "drive.mount('/content/drive')"
      ]
    },
    {
      "cell_type": "markdown",
      "source": [
        "##1. Cargamos la Base de Datos"
      ],
      "metadata": {
        "id": "mAyVGh0rUpP6"
      }
    },
    {
      "cell_type": "code",
      "source": [
        "#Nos conectamos con la base de datos\n",
        "conexion = sqlite3.connect('/content/drive/MyDrive/Colab Notebooks/IB/MisCancionesV3.db')\n",
        "#Creamos el cursor\n",
        "cursor = conexion.cursor()"
      ],
      "metadata": {
        "id": "fy3qkGQKUonK"
      },
      "execution_count": null,
      "outputs": []
    },
    {
      "cell_type": "markdown",
      "source": [
        "##Subconsulta Autónomas\n",
        "En este caso la información que requiere la consulta principal proviene toda de la misma tabla, aunque la subconsulta requiere de tablas adicionales"
      ],
      "metadata": {
        "id": "vqjFlxbzUHxz"
      }
    },
    {
      "cell_type": "code",
      "source": [
        "#¿Cuáles son los títulos, la duración, y el idioma de todas las canciones del género \"Salsa\"?\n",
        "\n",
        "consulta = '''\n",
        "           SELECT título,\n",
        "           duración,\n",
        "           idioma\n",
        "           FROM Canciones\n",
        "           WHERE idGénero = (SELECT idGénero\n",
        "                              FROM Géneros\n",
        "                              WHERE nombre = 'Salsa')\n",
        "          '''\n",
        "\n",
        "#Ejecutamos la consulta\n",
        "cursor = cursor.execute(consulta)\n",
        "\n",
        "#Traemos los resultados\n",
        "resultados = cursor.fetchall()\n",
        "\n",
        "#Visualizamos\n",
        "for resultado in resultados:\n",
        "  print(resultado)"
      ],
      "metadata": {
        "colab": {
          "base_uri": "https://localhost:8080/"
        },
        "id": "jv9npHzpVI_z",
        "outputId": "920e692b-95ba-47d1-af18-cfff64654a22"
      },
      "execution_count": null,
      "outputs": [
        {
          "output_type": "stream",
          "name": "stdout",
          "text": [
            "('Una aventura', '00:05:16', 'español')\n",
            "('Gotas de lluvia', '00:05:54', 'español')\n",
            "('Ne me quitte pas', '00:05:37', 'francés')\n",
            "('Cali es sabrosura', '00:03:14', 'español')\n"
          ]
        }
      ]
    },
    {
      "cell_type": "code",
      "source": [
        "cursor.execute(\"SELECT name FROM sqlite_master WHERE type = 'table';\")\n",
        "tablas = cursor.fetchall()\n",
        "for tabla in tablas:\n",
        "  print(tabla)"
      ],
      "metadata": {
        "colab": {
          "base_uri": "https://localhost:8080/"
        },
        "id": "a7giVAzoXDk4",
        "outputId": "90305692-7aeb-4728-b4f1-8c8abdb3846f"
      },
      "execution_count": null,
      "outputs": [
        {
          "output_type": "stream",
          "name": "stdout",
          "text": [
            "('Géneros',)\n",
            "('Álbumes',)\n",
            "('Usuarios',)\n",
            "('Intérpretes',)\n",
            "('Canciones',)\n",
            "('Calificaciones',)\n",
            "('Reproducciones',)\n",
            "('ListasReproducción',)\n",
            "('CancionesLista',)\n"
          ]
        }
      ]
    },
    {
      "cell_type": "code",
      "source": [
        "#¿Cuáles son los títulos, la duración y el idioma de la canciones del género Salsa cuyo intérprete principal es Yuri Buenaventura?\n",
        "\n",
        "consulta = '''\n",
        "           SELECT título,\n",
        "           duración,\n",
        "           idioma\n",
        "           FROM Canciones\n",
        "           WHERE idGénero = (SELECT idGénero\n",
        "                              FROM Géneros\n",
        "                              WHERE nombre = 'Salsa') AND\n",
        "                 idIntérpretePrincipal = (SELECT idIntérprete\n",
        "                                          FROM intérpretes\n",
        "                                          WHERE nombre = 'Yuri Buenaventura')\n",
        "          '''\n",
        "\n",
        "#Ejecutamos la consulta\n",
        "cursor = cursor.execute(consulta)\n",
        "\n",
        "#Traemos los resultados\n",
        "resultados = cursor.fetchall()\n",
        "\n",
        "#Visualizamos\n",
        "for resultado in resultados:\n",
        "  print(resultado)"
      ],
      "metadata": {
        "colab": {
          "base_uri": "https://localhost:8080/"
        },
        "id": "-28ccF4DX6j5",
        "outputId": "49a3954c-4a73-487f-e277-646b79310bc9"
      },
      "execution_count": null,
      "outputs": [
        {
          "output_type": "stream",
          "name": "stdout",
          "text": [
            "('Ne me quitte pas', '00:05:37', 'francés')\n",
            "('Cali es sabrosura', '00:03:14', 'español')\n"
          ]
        }
      ]
    },
    {
      "cell_type": "code",
      "source": [
        "#¿Cuál es la duración de la canción más larga\n",
        "consulta = '''\n",
        "           SELECT MAX(duración)\n",
        "           FROM Canciones\n",
        "          '''\n",
        "\n",
        "#Ejecutamos la consulta\n",
        "cursor = cursor.execute(consulta)\n",
        "\n",
        "#Traemos los resultados\n",
        "resultados = cursor.fetchall()\n",
        "\n",
        "#Visualizamos\n",
        "for resultado in resultados:\n",
        "  print(resultado)"
      ],
      "metadata": {
        "colab": {
          "base_uri": "https://localhost:8080/"
        },
        "id": "TG5JTYxha0uX",
        "outputId": "7d734fc2-2617-4899-86be-c36fc0054df7"
      },
      "execution_count": null,
      "outputs": [
        {
          "output_type": "stream",
          "name": "stdout",
          "text": [
            "('00:05:54',)\n"
          ]
        }
      ]
    },
    {
      "cell_type": "code",
      "source": [
        "#¿Cuál es la duración de la canción más corta\n",
        "consulta = '''\n",
        "           SELECT MIN(duración)\n",
        "           FROM Canciones\n",
        "          '''\n",
        "\n",
        "#Ejecutamos la consulta\n",
        "cursor = cursor.execute(consulta)\n",
        "\n",
        "#Traemos los resultados\n",
        "resultados = cursor.fetchall()\n",
        "\n",
        "#Visualizamos\n",
        "for resultado in resultados:\n",
        "  print(resultado)"
      ],
      "metadata": {
        "colab": {
          "base_uri": "https://localhost:8080/"
        },
        "id": "sz4i_5B-bCT5",
        "outputId": "e57fddad-d7cc-4251-e532-4fe3b555acf6"
      },
      "execution_count": null,
      "outputs": [
        {
          "output_type": "stream",
          "name": "stdout",
          "text": [
            "('00:02:28',)\n"
          ]
        }
      ]
    },
    {
      "cell_type": "code",
      "source": [
        "#¿Cuál es el título y duración de las canciones más largas y las canciones más cortas?\n",
        "#En este caso se hará la consulta principal y la subconsulta de la misma tabla\n",
        "\n",
        "consulta = '''\n",
        "           SELECT título,\n",
        "           duración\n",
        "           FROM Canciones\n",
        "           WHERE duración IN ((SELECT MIN(duración)\n",
        "                               FROM Canciones),\n",
        "                              (SELECT MAX(duración)\n",
        "                               FROM Canciones))\n",
        "          '''\n",
        "\n",
        "#Ejecutamos la consulta\n",
        "cursor = cursor.execute(consulta)\n",
        "\n",
        "#Traemos los resultados\n",
        "resultados = cursor.fetchall()\n",
        "\n",
        "#Visualizamos\n",
        "for resultado in resultados:\n",
        "  print(resultado)"
      ],
      "metadata": {
        "colab": {
          "base_uri": "https://localhost:8080/"
        },
        "id": "eQHVpYU1abMX",
        "outputId": "ec806867-0108-4ce8-a25b-643a0540ecac"
      },
      "execution_count": null,
      "outputs": [
        {
          "output_type": "stream",
          "name": "stdout",
          "text": [
            "('Gotas de lluvia', '00:05:54')\n",
            "('Oropel', '00:02:28')\n"
          ]
        }
      ]
    },
    {
      "cell_type": "code",
      "source": [
        "#¿Cuál es el título y la duración de las canciones interpretadas por solistas?\n",
        "#Se hace primero sin subconsulta\n",
        "#1. Seleccionamos el ID de los intérpretes que son solistas\n",
        "consulta = '''\n",
        "           SELECT idIntérprete\n",
        "           FROM Intérpretes\n",
        "           WHERE tipoIntérprete = 'Solista'\n",
        "          '''\n",
        "\n",
        "#Ejecutamos la consulta\n",
        "cursor = cursor.execute(consulta)\n",
        "\n",
        "#Traemos los resultados\n",
        "resultados = cursor.fetchall()\n",
        "\n",
        "#Visualizamos\n",
        "for resultado in resultados:\n",
        "  print(resultado)"
      ],
      "metadata": {
        "colab": {
          "base_uri": "https://localhost:8080/"
        },
        "id": "ofzjNXzpcqLR",
        "outputId": "8bfa8ea2-ef57-46b8-85ae-91b057b720dd"
      },
      "execution_count": null,
      "outputs": [
        {
          "output_type": "stream",
          "name": "stdout",
          "text": [
            "(1,)\n",
            "(3,)\n",
            "(5,)\n",
            "(7,)\n",
            "(9,)\n"
          ]
        }
      ]
    },
    {
      "cell_type": "code",
      "source": [
        "#2. Seleccionamos o mostramos el título, la duración de las canciones cuyo intérprete corresponda al ID encontrado en la consulta anterior\n",
        "\n",
        "consulta = '''\n",
        "           SELECT título,\n",
        "           duración\n",
        "           FROM Canciones\n",
        "           WHERE idIntérpretePrincipal IN (1, 3, 5, 7, 9)\n",
        "          '''\n",
        "\n",
        "#Ejecutamos la consulta\n",
        "cursor = cursor.execute(consulta)\n",
        "\n",
        "#Traemos los resultados\n",
        "resultados = cursor.fetchall()\n",
        "\n",
        "#Visualizamos\n",
        "for resultado in resultados:\n",
        "  print(resultado)"
      ],
      "metadata": {
        "colab": {
          "base_uri": "https://localhost:8080/"
        },
        "id": "YPnRnuKXeAQV",
        "outputId": "95b36f90-c3d9-4fdb-c51a-35cfe51925a6"
      },
      "execution_count": null,
      "outputs": [
        {
          "output_type": "stream",
          "name": "stdout",
          "text": [
            "('La tierra del olvido', '00:04:25')\n",
            "('La bicicleta', '00:03:47')\n",
            "('Hips dont lie', '00:03:38')\n",
            "('Ojos así', '00:03:55')\n",
            "('Amarte mas no pude', '00:04:49')\n",
            "('Sin medir distancias', '00:04:58')\n",
            "('Mi gente', '00:03:09')\n",
            "('Ginza', '00:02:51')\n",
            "('Ne me quitte pas', '00:05:37')\n",
            "('Cali es sabrosura', '00:03:14')\n"
          ]
        }
      ]
    },
    {
      "cell_type": "code",
      "source": [
        "#Ahora, se hace en formato de subconsulta\n",
        "\n",
        "consulta = '''\n",
        "           SELECT título,\n",
        "           duración\n",
        "           FROM Canciones\n",
        "           WHERE idIntérpretePrincipal IN (SELECT idIntérprete\n",
        "                                           FROM Intérpretes\n",
        "                                           WHERE tipoIntérprete = 'Solista')\n",
        "          ORDER BY título\n",
        "          '''\n",
        "\n",
        "#Ejecutamos la consulta\n",
        "cursor = cursor.execute(consulta)\n",
        "\n",
        "#Traemos los resultados\n",
        "resultados = cursor.fetchall()\n",
        "\n",
        "#Visualizamos\n",
        "for resultado in resultados:\n",
        "  print(resultado)"
      ],
      "metadata": {
        "colab": {
          "base_uri": "https://localhost:8080/"
        },
        "id": "BRNqM3uCexWg",
        "outputId": "14755d89-e144-47a0-c1b6-cc771cffd4a6"
      },
      "execution_count": null,
      "outputs": [
        {
          "output_type": "stream",
          "name": "stdout",
          "text": [
            "('Amarte mas no pude', '00:04:49')\n",
            "('Cali es sabrosura', '00:03:14')\n",
            "('Ginza', '00:02:51')\n",
            "('Hips dont lie', '00:03:38')\n",
            "('La bicicleta', '00:03:47')\n",
            "('La tierra del olvido', '00:04:25')\n",
            "('Mi gente', '00:03:09')\n",
            "('Ne me quitte pas', '00:05:37')\n",
            "('Ojos así', '00:03:55')\n",
            "('Sin medir distancias', '00:04:58')\n"
          ]
        }
      ]
    },
    {
      "cell_type": "code",
      "source": [
        "#¿Cuál es el título de las canciones reproducidas por mujeres nacidas en Colombia?\n",
        "\n",
        "consulta = '''\n",
        "           SELECT título\n",
        "           FROM Canciones\n",
        "           WHERE idCanción IN (SELECT idCanción\n",
        "                               FROM Reproducciones\n",
        "                               WHERE idUsuario IN (SELECT idUsuario\n",
        "                                                   FROM Usuarios\n",
        "                                                   WHERE sexo = 'F' AND\n",
        "                                                         paísNacimiento = 'Colombia'))\n",
        "          '''\n",
        "\n",
        "#Ejecutamos la consulta\n",
        "cursor = cursor.execute(consulta)\n",
        "\n",
        "#Traemos los resultados\n",
        "resultados = cursor.fetchall()\n",
        "\n",
        "#Visualizamos\n",
        "for resultado in resultados:\n",
        "  print(resultado)"
      ],
      "metadata": {
        "colab": {
          "base_uri": "https://localhost:8080/"
        },
        "id": "5v6n3pryfWRv",
        "outputId": "63fa7d10-3f9e-496e-bc67-8745dc363345"
      },
      "execution_count": null,
      "outputs": [
        {
          "output_type": "stream",
          "name": "stdout",
          "text": [
            "('La tierra del olvido',)\n",
            "('La bicicleta',)\n",
            "('Una aventura',)\n",
            "('Gotas de lluvia',)\n",
            "('Hips dont lie',)\n",
            "('Ojos así',)\n",
            "('Bolero falaz',)\n",
            "('Maligno',)\n",
            "('Amarte mas no pude',)\n",
            "('Sin medir distancias',)\n",
            "('De donde vengo yo',)\n",
            "('Mi gente',)\n",
            "('Ginza',)\n",
            "('Las acacias',)\n",
            "('Ne me quitte pas',)\n",
            "('Cali es sabrosura',)\n",
            "('La creciente',)\n",
            "('Olvídala',)\n"
          ]
        }
      ]
    },
    {
      "cell_type": "code",
      "source": [
        "#¿Cuál es el título de las canciones del género Salsa reproducidas por mujeres en Colombia?\n",
        "#¿Cuál es el título de las canciones reproducidas por mujeres nacidas en Colombia?\n",
        "\n",
        "consulta = '''\n",
        "           SELECT título\n",
        "           FROM Canciones\n",
        "           WHERE idCanción IN (SELECT idCanción\n",
        "                               FROM Reproducciones\n",
        "                               WHERE idUsuario IN (SELECT idUsuario\n",
        "                                                   FROM Usuarios\n",
        "                                                   WHERE sexo = 'F' AND\n",
        "                                                         paísNacimiento = 'Colombia'))\n",
        "                 AND idGénero = (SELECT idGénero\n",
        "                                FROM Géneros\n",
        "                                WHERE nombre = 'Salsa')\n",
        "          '''\n",
        "\n",
        "#Ejecutamos la consulta\n",
        "cursor = cursor.execute(consulta)\n",
        "\n",
        "#Traemos los resultados\n",
        "resultados = cursor.fetchall()\n",
        "\n",
        "#Visualizamos\n",
        "for resultado in resultados:\n",
        "  print(resultado)"
      ],
      "metadata": {
        "colab": {
          "base_uri": "https://localhost:8080/"
        },
        "id": "A4YpR7cMg8ll",
        "outputId": "eb762f94-59ea-49dc-ee5c-544d7d28b608"
      },
      "execution_count": null,
      "outputs": [
        {
          "output_type": "stream",
          "name": "stdout",
          "text": [
            "('Una aventura',)\n",
            "('Gotas de lluvia',)\n",
            "('Ne me quitte pas',)\n",
            "('Cali es sabrosura',)\n"
          ]
        }
      ]
    },
    {
      "cell_type": "markdown",
      "source": [
        "##Subconsultas Correlacionadas\n",
        "\n",
        "En este caso la información que requiere la consulta principal proviene de diferentes tablas o de la misma tabla a partir de agrupaciones."
      ],
      "metadata": {
        "id": "8KTfUjU0iOZm"
      }
    },
    {
      "cell_type": "code",
      "source": [
        "#¿Cuál es el identificador del género, el título y la duración de las canciones de mayor duración de cada género?\n",
        "\n",
        "consulta = '''\n",
        "           SELECT idGénero,\n",
        "                  título,\n",
        "                  duración\n",
        "           FROM Canciones AS TablaPrincipal\n",
        "           WHERE duración = (SELECT MAX(duración)\n",
        "                             FROM Canciones AS TablaSubconsulta\n",
        "                             WHERE TablaSubconsulta.idGénero = TablaPrincipal.idGénero)\n",
        "          '''\n",
        "\n",
        "#Ejecutamos la consulta\n",
        "cursor = cursor.execute(consulta)\n",
        "\n",
        "#Traemos los resultados\n",
        "resultados = cursor.fetchall()\n",
        "\n",
        "#Visualizamos\n",
        "for resultado in resultados:\n",
        "  print(resultado)"
      ],
      "metadata": {
        "colab": {
          "base_uri": "https://localhost:8080/"
        },
        "id": "AXRPERMRiUE-",
        "outputId": "8560c0c5-6bee-437b-ab81-bb1c8ea63192"
      },
      "execution_count": null,
      "outputs": [
        {
          "output_type": "stream",
          "name": "stdout",
          "text": [
            "(9, 'La tierra del olvido', '00:04:25')\n",
            "(3, 'Gotas de lluvia', '00:05:54')\n",
            "(1, 'Ojos así', '00:03:55')\n",
            "(2, 'Maligno', '00:04:09')\n",
            "(5, 'Mi gente', '00:03:09')\n",
            "(6, 'Las acacias', '00:04:04')\n",
            "(4, 'Olvídala', '00:05:04')\n"
          ]
        }
      ]
    },
    {
      "cell_type": "code",
      "source": [
        "#¿Cuáles son los títulos de la canciones intérpretadas por Carlos Vives que han sido agregadas a listas de reproducción y los nombres de dichas listas?\n",
        "\n",
        "#Primero saqué el titulo de la lista de reproducción donde el id corresponda a la lista de reproducciones (Atributo 1)\n",
        "#Relacioné el idCanción con el de las CancionesLista(Atributo 2)\n",
        "#Por último hacemos las condiciones del intérprete principal\n",
        "consulta = '''\n",
        "           SELECT (SELECT título\n",
        "                   FROM ListasReproducción\n",
        "                   WHERE ListasReproducción.idListaReproducción = CancionesLista.idListaReproducción) AS títulolista,\n",
        "\n",
        "                  (SELECT título\n",
        "                   FROM Canciones\n",
        "                   WHERE Canciones.idCanción = CancionesLista.idCanción)\n",
        "                   FROM CancionesLista\n",
        "\n",
        "                   WHERE idCanción IN (SELECT idCanción\n",
        "                                       FROM Canciones\n",
        "                                       WHERE idIntérpretePrincipal = (SELECT idIntérprete\n",
        "                                                                     FROM Intérpretes\n",
        "                                                                     WHERE nombre = 'Carlos Vives'))\n",
        "          '''\n",
        "#Ejecutamos la consulta\n",
        "cursor = cursor.execute(consulta)\n",
        "\n",
        "#Traemos los resultados\n",
        "resultados = cursor.fetchall()\n",
        "\n",
        "#Visualizamos\n",
        "for resultado in resultados:\n",
        "  print(resultado)"
      ],
      "metadata": {
        "colab": {
          "base_uri": "https://localhost:8080/"
        },
        "id": "u5gfdMjnj2Cl",
        "outputId": "96b10a3b-fae3-4230-f692-cad48da3839e"
      },
      "execution_count": null,
      "outputs": [
        {
          "output_type": "stream",
          "name": "stdout",
          "text": [
            "('Música para planchar', 'La tierra del olvido')\n",
            "('Música para planchar', 'La bicicleta')\n",
            "('Mis favoritas', 'La bicicleta')\n",
            "('Canciones para dedicar a mi novia cuando tenga novia', 'La bicicleta')\n",
            "('Mi cuerpo pide salsa', 'La tierra del olvido')\n",
            "('Mi cuerpo pide salsa', 'La bicicleta')\n",
            "('Música para estudiar', 'La tierra del olvido')\n",
            "('Música para estudiar', 'La bicicleta')\n",
            "('Entrenar con energia ', 'La tierra del olvido')\n",
            "('Entrenar con energia ', 'La bicicleta')\n",
            "('Tarde de relajación', 'La tierra del olvido')\n",
            "('Tarde de relajación', 'La bicicleta')\n",
            "('Manejar con gusto, sabor y ritmo', 'La bicicleta')\n",
            "('Para gustos los colores', 'La tierra del olvido')\n",
            "('Reggaeton viejo', 'La tierra del olvido')\n",
            "('Reggaeton viejo', 'La bicicleta')\n",
            "('Música para trabajar', 'La tierra del olvido')\n",
            "('Colección de imperdibles', 'La tierra del olvido')\n",
            "('Crossover de ayer y hoy', 'La tierra del olvido')\n",
            "('Paseo en familia', 'La tierra del olvido')\n",
            "('Las melodias que inspiran', 'La tierra del olvido')\n",
            "('Las melodias que inspiran', 'La bicicleta')\n",
            "('Música para viajar', 'La tierra del olvido')\n",
            "('Música para viajar', 'La bicicleta')\n",
            "('Buena vibra', 'La bicicleta')\n",
            "('Bailoteo', 'La bicicleta')\n"
          ]
        }
      ]
    }
  ]
}