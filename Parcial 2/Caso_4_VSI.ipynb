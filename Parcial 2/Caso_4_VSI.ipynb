{
  "nbformat": 4,
  "nbformat_minor": 0,
  "metadata": {
    "colab": {
      "provenance": [],
      "authorship_tag": "ABX9TyNxVFGhHubJk57HOJACusFi",
      "include_colab_link": true
    },
    "kernelspec": {
      "name": "python3",
      "display_name": "Python 3"
    },
    "language_info": {
      "name": "python"
    }
  },
  "cells": [
    {
      "cell_type": "markdown",
      "metadata": {
        "id": "view-in-github",
        "colab_type": "text"
      },
      "source": [
        "<a href=\"https://colab.research.google.com/github/valesierrai/Introduccion-a-la-Inteligencia-de-Negocios/blob/main/Parcial%202/Caso_4_VSI.ipynb\" target=\"_parent\"><img src=\"https://colab.research.google.com/assets/colab-badge.svg\" alt=\"Open In Colab\"/></a>"
      ]
    },
    {
      "cell_type": "markdown",
      "source": [
        "#**Caso 4**\n",
        "Un inversionista quiere invertir $\\$300 000$ en una cartera de tres fondos mutuos. Los rendimientos anuales de los fondos se distribuyen normalmente con una media de 2.00% y una desviación estándar de 0.30% para el fondo de inversión a corto plazo, una media de 5.00% y una desviación estándar de 2.50% para el fondo de mediano plazo, y una media de 6.25% y desviación estándar de 5.50% para el fondo a largo plazo. Un plan inicial para la asignación de inversiones es 45% en el fondo de corto plazo, 35% en el fondo de mediano plazo y 20% en el fondo de largo plazo.\n",
        "\n",
        "Usa una semilla de 1, para desarrollar una simulación de Monte Carlo con 1 000 ensayos a fin de estimar el saldo final medio después del primer año y evaluar el riesgo de esta inversión."
      ],
      "metadata": {
        "id": "wkjbntO4q1-h"
      }
    },
    {
      "cell_type": "code",
      "source": [
        "#Importamos Librerias\n",
        "import numpy as np"
      ],
      "metadata": {
        "id": "61nbZXNst8sn"
      },
      "execution_count": null,
      "outputs": []
    },
    {
      "cell_type": "code",
      "source": [
        "# Establecemos la semilla\n",
        "np.random.seed(1)\n",
        "\n",
        "#Variables\n",
        "inversion_inicial = 300000\n",
        "fi_corto_plazo = 0.45\n",
        "fi_mediano_plazo = 0.35\n",
        "fi_largo_plazo = 0.20\n",
        "\n",
        "media_corto_plazo = 0.02\n",
        "desviacion_estandar_corto_plazo = 0.003\n",
        "\n",
        "media_mediano_plazo = 0.05\n",
        "desviacion_estandar_mediano_plazo = 0.025\n",
        "\n",
        "media_largo_plazo = 0.0625\n",
        "desviacion_estandar_largo_plazo = 0.055\n",
        "\n",
        "ensayos = 1000\n",
        "\n",
        "# Simulamos los rendimientos anuales para cada fondo\n",
        "rendimientos_corto_plazo = np.random.normal(media_corto_plazo, desviacion_estandar_corto_plazo, ensayos)\n",
        "rendimientos_mediano_plazo = np.random.normal(media_mediano_plazo, desviacion_estandar_mediano_plazo, ensayos)\n",
        "rendimientos_largo_plazo = np.random.normal(media_largo_plazo, desviacion_estandar_largo_plazo, ensayos)\n",
        "\n",
        "# Calculamos el saldo final para cada ensayo\n",
        "saldos_finales = (inversion_inicial * fi_corto_plazo * (1 + rendimientos_corto_plazo) +\n",
        "                  inversion_inicial * fi_mediano_plazo * (1 + rendimientos_mediano_plazo) +\n",
        "                  inversion_inicial * fi_largo_plazo * (1 + rendimientos_largo_plazo))\n",
        "\n",
        "# Calculamos el saldo final medio y el riesgo (desviación estándar)\n",
        "saldo_final_medio = np.mean(saldos_finales)\n",
        "riesgo = np.std(saldos_finales)\n",
        "\n",
        "print(f\"Saldo final medio después del primer año: ${saldo_final_medio:.2f}\")\n",
        "print(f\"Riesgo (desviación estándar) de la inversión: ${riesgo:.2f}\")\n"
      ],
      "metadata": {
        "colab": {
          "base_uri": "https://localhost:8080/"
        },
        "id": "vI6eOuqLt2kO",
        "outputId": "b599dd2b-42ba-4a3c-8639-491871aae831"
      },
      "execution_count": null,
      "outputs": [
        {
          "output_type": "stream",
          "name": "stdout",
          "text": [
            "Saldo final medio después del primer año: $311714.29\n",
            "Riesgo (desviación estándar) de la inversión: $4136.56\n"
          ]
        }
      ]
    }
  ]
}