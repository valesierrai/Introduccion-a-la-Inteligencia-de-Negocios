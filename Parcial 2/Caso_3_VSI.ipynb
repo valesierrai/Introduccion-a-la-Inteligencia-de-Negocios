{
  "nbformat": 4,
  "nbformat_minor": 0,
  "metadata": {
    "colab": {
      "provenance": [],
      "authorship_tag": "ABX9TyNlDAAXbYBZqSRL9hbwzQx7",
      "include_colab_link": true
    },
    "kernelspec": {
      "name": "python3",
      "display_name": "Python 3"
    },
    "language_info": {
      "name": "python"
    }
  },
  "cells": [
    {
      "cell_type": "markdown",
      "metadata": {
        "id": "view-in-github",
        "colab_type": "text"
      },
      "source": [
        "<a href=\"https://colab.research.google.com/github/valesierrai/Introduccion-a-la-Inteligencia-de-Negocios/blob/main/Parcial%202/Caso_3_VSI.ipynb\" target=\"_parent\"><img src=\"https://colab.research.google.com/assets/colab-badge.svg\" alt=\"Open In Colab\"/></a>"
      ]
    },
    {
      "cell_type": "markdown",
      "source": [
        "#**Caso 3**\n",
        "La vida útil promedio de la batería de un teléfono inteligente es de 2.3 años y sigue una distribución exponencial. El fabricante de la batería quiere ofrecer una garantía para que sus clientes reciban un reemplazo gratuito si la batería falla durante el primer año. Cada batería genera una ganancia de $\\$10.85$ y el costo de reemplazo es de $\\$6.35$. Utilice una semilla de 1, y desarrolle una simulación de Monte Carlo para la vida útil de 100 baterías.   \n",
        "\n",
        "    \n",
        "¿Cuál es el costo total esperado de este programa de garantía?"
      ],
      "metadata": {
        "id": "IFRvzq_mgvUB"
      }
    },
    {
      "cell_type": "code",
      "execution_count": null,
      "metadata": {
        "id": "Phc2uKHmgltT"
      },
      "outputs": [],
      "source": [
        "#Importamos Librerias\n",
        "import numpy as np"
      ]
    },
    {
      "cell_type": "code",
      "source": [
        "# Establecer la semilla\n",
        "np.random.seed(1)\n",
        "\n",
        "#Variables\n",
        "vida_media = 2.3\n",
        "periodo_garantia = 1\n",
        "ganancia_por_bateria = 10.85\n",
        "costo_reemplazo = 6.35\n",
        "num_baterias = 100\n",
        "\n",
        "# Simular la vida útil de 100 baterías\n",
        "vida_baterias = np.random.exponential(vida_media, num_baterias)\n",
        "\n",
        "# Calcular el número de baterías que fallan dentro del periodo de garantía\n",
        "fallos_en_garantia = np.sum(vida_baterias < periodo_garantia)\n",
        "\n",
        "# Calcular el Costo Total de Reemplazo\n",
        "costo_total_reemplazo = fallos_en_garantia * costo_reemplazo\n",
        "\n",
        "#Mostramos los resultados\n",
        "print(f\"Costo total de reemplazo: ${costo_total_reemplazo:.2f}\")"
      ],
      "metadata": {
        "colab": {
          "base_uri": "https://localhost:8080/"
        },
        "id": "60d9EajlibeO",
        "outputId": "84a46059-d350-4f57-df93-ac054f56ec38"
      },
      "execution_count": null,
      "outputs": [
        {
          "output_type": "stream",
          "name": "stdout",
          "text": [
            "Costo total de reemplazo: $241.30\n"
          ]
        }
      ]
    }
  ]
}