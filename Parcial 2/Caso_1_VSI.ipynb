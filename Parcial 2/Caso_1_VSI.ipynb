{
  "nbformat": 4,
  "nbformat_minor": 0,
  "metadata": {
    "colab": {
      "provenance": [],
      "authorship_tag": "ABX9TyPl5tuh4b8JudBSeekR4C5V",
      "include_colab_link": true
    },
    "kernelspec": {
      "name": "python3",
      "display_name": "Python 3"
    },
    "language_info": {
      "name": "python"
    }
  },
  "cells": [
    {
      "cell_type": "markdown",
      "metadata": {
        "id": "view-in-github",
        "colab_type": "text"
      },
      "source": [
        "<a href=\"https://colab.research.google.com/github/valesierrai/Introduccion-a-la-Inteligencia-de-Negocios/blob/main/Parcial%202/Caso_1_VSI.ipynb\" target=\"_parent\"><img src=\"https://colab.research.google.com/assets/colab-badge.svg\" alt=\"Open In Colab\"/></a>"
      ]
    },
    {
      "cell_type": "markdown",
      "source": [
        "#**Caso 1:**\n",
        "\n",
        "Cada semana, una tienda de abarrotes compra huevos en una granja local a $\\$1.99$ por cada cartón de 12 huevos y los vende a $\\$3.89$. Cualquier cartón que no se venda dentro de una semana estará en las ventas “especiales del gerente” o se venderá a un punto de venta de bajo costo por $\\$1.25$. Si los huevos se agotan antes del final de la semana, el costo de oportunidad estimado de no satisfacer la demanda es de $\\$1.75$ por cartón. La distribución de la demanda es aproximadamente normal con una media de 75 cartones y una desviación estándar de 12.5 cartones. Si la tienda ha pedido exactamente 75 cartones por semana al granjero, ¿cuál es la probabilidad y el costo de oportunidad de no satisfacer la demanda semanal?\n",
        "\n",
        "Utiliza una semilla de 1 para desarrollar una simulación de Monte Carlo durante 500 semanas a fin de responder la pregunta"
      ],
      "metadata": {
        "id": "MK_dg3KDYvwD"
      }
    },
    {
      "cell_type": "code",
      "source": [
        "#Importamos Librerias\n",
        "import numpy as np"
      ],
      "metadata": {
        "id": "54XpTjYhcS8e"
      },
      "execution_count": null,
      "outputs": []
    },
    {
      "cell_type": "code",
      "source": [
        "# Establecer la semilla\n",
        "np.random.seed(1)\n",
        "\n",
        "#Variables\n",
        "precio_compra = 1.99\n",
        "precio_venta = 3.89\n",
        "precio_especial = 1.25\n",
        "costo_oportunidad = 1.75\n",
        "media_demanda = 75\n",
        "desviacion_estandar_demanda = 12.5\n",
        "semanas = 500\n",
        "cartones_pedidos = 75\n",
        "\n",
        "# Simular la demanda para 500 semanas\n",
        "demanda = np.random.normal(media_demanda, desviacion_estandar_demanda, semanas)\n",
        "\n",
        "# Calcular el número de semanas con demanda insatisfecha y el costo de oportunidad total\n",
        "semanas_demanda_insatisfecha = np.sum(demanda > cartones_pedidos)\n",
        "costo_oportunidad_total = np.sum((demanda - cartones_pedidos) * costo_oportunidad * (demanda > cartones_pedidos))/500\n",
        "\n",
        "# Calcular la probabilidad de demanda insatisfecha\n",
        "probabilidad_demanda_insatisfecha = semanas_demanda_insatisfecha / semanas\n",
        "\n",
        "print(f\"Probabilidad de demanda insatisfecha: {probabilidad_demanda_insatisfecha:.4f}\")\n",
        "print(f\"Costo de oportunidad total en {semanas} semanas: ${costo_oportunidad_total:.2f}\")"
      ],
      "metadata": {
        "colab": {
          "base_uri": "https://localhost:8080/"
        },
        "id": "ZXNOcC6SeLiB",
        "outputId": "b5c3ad4b-252e-4795-9d49-920331b61dcf"
      },
      "execution_count": null,
      "outputs": [
        {
          "output_type": "stream",
          "name": "stdout",
          "text": [
            "Probabilidad de demanda insatisfecha: 0.5160\n",
            "Costo de oportunidad total en 500 semanas: $9.23\n"
          ]
        }
      ]
    }
  ]
}