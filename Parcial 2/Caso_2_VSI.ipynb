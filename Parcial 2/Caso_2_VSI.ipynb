{
  "nbformat": 4,
  "nbformat_minor": 0,
  "metadata": {
    "colab": {
      "provenance": [],
      "authorship_tag": "ABX9TyNAcDK1JQRbnxYRLN8atpVK",
      "include_colab_link": true
    },
    "kernelspec": {
      "name": "python3",
      "display_name": "Python 3"
    },
    "language_info": {
      "name": "python"
    }
  },
  "cells": [
    {
      "cell_type": "markdown",
      "metadata": {
        "id": "view-in-github",
        "colab_type": "text"
      },
      "source": [
        "<a href=\"https://colab.research.google.com/github/valesierrai/Introduccion-a-la-Inteligencia-de-Negocios/blob/main/Parcial%202/Caso_2_VSI.ipynb\" target=\"_parent\"><img src=\"https://colab.research.google.com/assets/colab-badge.svg\" alt=\"Open In Colab\"/></a>"
      ]
    },
    {
      "cell_type": "markdown",
      "source": [
        "#**Caso 2**\n",
        "Un parque de diversiones tiene una montaña rusa que puede acoger hasta 45 asistentes al parque por paseo, y cada paseo dura unos 20 minutos. Por cada hora, el parque entrega 200 boletos para el paseo y en promedio solo 60% de los poseedores de boletos abordan la montaña rusa. El número de usuarios de la montaña rusa sigue una distribución normal con una media de 120 usuarios por hora y una desviación estándar de 35 usuarios. Utilice  una semilla de 1, para desarrollar una simulación de Monte Carlo con 400 ensayos. ¿Cuál es el número promedio de pasajeros que no pueden subirse a la montaña rusa?"
      ],
      "metadata": {
        "id": "6zF4hCJBlG9T"
      }
    },
    {
      "cell_type": "code",
      "source": [
        "#Importamos librerias necesarias\n",
        "import numpy as np\n",
        "import scipy.stats as stats"
      ],
      "metadata": {
        "id": "hR_07YOrrdPM"
      },
      "execution_count": null,
      "outputs": []
    },
    {
      "cell_type": "code",
      "execution_count": null,
      "metadata": {
        "colab": {
          "base_uri": "https://localhost:8080/"
        },
        "id": "XXlNwDNckzFP",
        "outputId": "6c49c414-b218-4334-eee9-b28bc9c505df"
      },
      "outputs": [
        {
          "output_type": "stream",
          "name": "stdout",
          "text": [
            "El número promedio de pasajeros que no pueden subirse a la montaña rusa es: 7.7725\n"
          ]
        }
      ],
      "source": [
        "#Variables\n",
        "capacidad_paseo = 45\n",
        "duracion_paseo_min = 20\n",
        "boletos_hora = 200\n",
        "tasa_abordaje = 0.6\n",
        "media_usuarios = 120\n",
        "desv_std_usuarios = 35\n",
        "num_ensayos = 400\n",
        "\n",
        "#Capacidad por hora\n",
        "capacidad_hora = capacidad_paseo * (60 / duracion_paseo_min)\n",
        "\n",
        "#Simulación\n",
        "\n",
        "#Fijamos la semilla\n",
        "np.random.seed(1)\n",
        "\n",
        "#Resultados\n",
        "resultados = []\n",
        "for _ in range(num_ensayos):\n",
        "    demanda_efectiva = int(np.random.normal(media_usuarios, desv_std_usuarios))\n",
        "    pasajeros_sin_asiento = max(0, demanda_efectiva - capacidad_hora)\n",
        "    resultados.append(pasajeros_sin_asiento)\n",
        "\n",
        "# Promedio\n",
        "promedio_pasajeros_sin_asiento = np.mean(resultados)\n",
        "\n",
        "print(\"El número promedio de pasajeros que no pueden subirse a la montaña rusa es:\", promedio_pasajeros_sin_asiento)"
      ]
    }
  ]
}